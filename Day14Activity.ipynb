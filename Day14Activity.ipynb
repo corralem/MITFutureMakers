{
  "nbformat": 4,
  "nbformat_minor": 0,
  "metadata": {
    "colab": {
      "name": "Day14Activity.ipynb",
      "provenance": [],
      "authorship_tag": "ABX9TyMtjZzjC5OOQFl0y0w3N8RX",
      "include_colab_link": true
    },
    "kernelspec": {
      "name": "python3",
      "display_name": "Python 3"
    },
    "language_info": {
      "name": "python"
    }
  },
  "cells": [
    {
      "cell_type": "markdown",
      "metadata": {
        "id": "view-in-github",
        "colab_type": "text"
      },
      "source": [
        "<a href=\"https://colab.research.google.com/github/corralem/MITFutureMakers/blob/main/Day14Activity.ipynb\" target=\"_parent\"><img src=\"https://colab.research.google.com/assets/colab-badge.svg\" alt=\"Open In Colab\"/></a>"
      ]
    },
    {
      "cell_type": "code",
      "metadata": {
        "id": "11P80jUQReE0"
      },
      "source": [
        "import pandas as pd"
      ],
      "execution_count": 1,
      "outputs": []
    },
    {
      "cell_type": "code",
      "metadata": {
        "id": "3pzz6IDRR7kT"
      },
      "source": [
        "df = pd.read_csv('housepricedata.csv')"
      ],
      "execution_count": 2,
      "outputs": []
    },
    {
      "cell_type": "code",
      "metadata": {
        "colab": {
          "base_uri": "https://localhost:8080/",
          "height": 419
        },
        "id": "WS9wn8pKSQa1",
        "outputId": "5dd086c6-b33a-4678-8052-60daabd3b920"
      },
      "source": [
        "df"
      ],
      "execution_count": 3,
      "outputs": [
        {
          "output_type": "execute_result",
          "data": {
            "text/html": [
              "<div>\n",
              "<style scoped>\n",
              "    .dataframe tbody tr th:only-of-type {\n",
              "        vertical-align: middle;\n",
              "    }\n",
              "\n",
              "    .dataframe tbody tr th {\n",
              "        vertical-align: top;\n",
              "    }\n",
              "\n",
              "    .dataframe thead th {\n",
              "        text-align: right;\n",
              "    }\n",
              "</style>\n",
              "<table border=\"1\" class=\"dataframe\">\n",
              "  <thead>\n",
              "    <tr style=\"text-align: right;\">\n",
              "      <th></th>\n",
              "      <th>LotArea</th>\n",
              "      <th>OverallQual</th>\n",
              "      <th>OverallCond</th>\n",
              "      <th>TotalBsmtSF</th>\n",
              "      <th>FullBath</th>\n",
              "      <th>HalfBath</th>\n",
              "      <th>BedroomAbvGr</th>\n",
              "      <th>TotRmsAbvGrd</th>\n",
              "      <th>Fireplaces</th>\n",
              "      <th>GarageArea</th>\n",
              "      <th>AboveMedianPrice</th>\n",
              "    </tr>\n",
              "  </thead>\n",
              "  <tbody>\n",
              "    <tr>\n",
              "      <th>0</th>\n",
              "      <td>8450</td>\n",
              "      <td>7</td>\n",
              "      <td>5</td>\n",
              "      <td>856</td>\n",
              "      <td>2</td>\n",
              "      <td>1</td>\n",
              "      <td>3</td>\n",
              "      <td>8</td>\n",
              "      <td>0</td>\n",
              "      <td>548</td>\n",
              "      <td>1</td>\n",
              "    </tr>\n",
              "    <tr>\n",
              "      <th>1</th>\n",
              "      <td>9600</td>\n",
              "      <td>6</td>\n",
              "      <td>8</td>\n",
              "      <td>1262</td>\n",
              "      <td>2</td>\n",
              "      <td>0</td>\n",
              "      <td>3</td>\n",
              "      <td>6</td>\n",
              "      <td>1</td>\n",
              "      <td>460</td>\n",
              "      <td>1</td>\n",
              "    </tr>\n",
              "    <tr>\n",
              "      <th>2</th>\n",
              "      <td>11250</td>\n",
              "      <td>7</td>\n",
              "      <td>5</td>\n",
              "      <td>920</td>\n",
              "      <td>2</td>\n",
              "      <td>1</td>\n",
              "      <td>3</td>\n",
              "      <td>6</td>\n",
              "      <td>1</td>\n",
              "      <td>608</td>\n",
              "      <td>1</td>\n",
              "    </tr>\n",
              "    <tr>\n",
              "      <th>3</th>\n",
              "      <td>9550</td>\n",
              "      <td>7</td>\n",
              "      <td>5</td>\n",
              "      <td>756</td>\n",
              "      <td>1</td>\n",
              "      <td>0</td>\n",
              "      <td>3</td>\n",
              "      <td>7</td>\n",
              "      <td>1</td>\n",
              "      <td>642</td>\n",
              "      <td>0</td>\n",
              "    </tr>\n",
              "    <tr>\n",
              "      <th>4</th>\n",
              "      <td>14260</td>\n",
              "      <td>8</td>\n",
              "      <td>5</td>\n",
              "      <td>1145</td>\n",
              "      <td>2</td>\n",
              "      <td>1</td>\n",
              "      <td>4</td>\n",
              "      <td>9</td>\n",
              "      <td>1</td>\n",
              "      <td>836</td>\n",
              "      <td>1</td>\n",
              "    </tr>\n",
              "    <tr>\n",
              "      <th>...</th>\n",
              "      <td>...</td>\n",
              "      <td>...</td>\n",
              "      <td>...</td>\n",
              "      <td>...</td>\n",
              "      <td>...</td>\n",
              "      <td>...</td>\n",
              "      <td>...</td>\n",
              "      <td>...</td>\n",
              "      <td>...</td>\n",
              "      <td>...</td>\n",
              "      <td>...</td>\n",
              "    </tr>\n",
              "    <tr>\n",
              "      <th>1455</th>\n",
              "      <td>7917</td>\n",
              "      <td>6</td>\n",
              "      <td>5</td>\n",
              "      <td>953</td>\n",
              "      <td>2</td>\n",
              "      <td>1</td>\n",
              "      <td>3</td>\n",
              "      <td>7</td>\n",
              "      <td>1</td>\n",
              "      <td>460</td>\n",
              "      <td>1</td>\n",
              "    </tr>\n",
              "    <tr>\n",
              "      <th>1456</th>\n",
              "      <td>13175</td>\n",
              "      <td>6</td>\n",
              "      <td>6</td>\n",
              "      <td>1542</td>\n",
              "      <td>2</td>\n",
              "      <td>0</td>\n",
              "      <td>3</td>\n",
              "      <td>7</td>\n",
              "      <td>2</td>\n",
              "      <td>500</td>\n",
              "      <td>1</td>\n",
              "    </tr>\n",
              "    <tr>\n",
              "      <th>1457</th>\n",
              "      <td>9042</td>\n",
              "      <td>7</td>\n",
              "      <td>9</td>\n",
              "      <td>1152</td>\n",
              "      <td>2</td>\n",
              "      <td>0</td>\n",
              "      <td>4</td>\n",
              "      <td>9</td>\n",
              "      <td>2</td>\n",
              "      <td>252</td>\n",
              "      <td>1</td>\n",
              "    </tr>\n",
              "    <tr>\n",
              "      <th>1458</th>\n",
              "      <td>9717</td>\n",
              "      <td>5</td>\n",
              "      <td>6</td>\n",
              "      <td>1078</td>\n",
              "      <td>1</td>\n",
              "      <td>0</td>\n",
              "      <td>2</td>\n",
              "      <td>5</td>\n",
              "      <td>0</td>\n",
              "      <td>240</td>\n",
              "      <td>0</td>\n",
              "    </tr>\n",
              "    <tr>\n",
              "      <th>1459</th>\n",
              "      <td>9937</td>\n",
              "      <td>5</td>\n",
              "      <td>6</td>\n",
              "      <td>1256</td>\n",
              "      <td>1</td>\n",
              "      <td>1</td>\n",
              "      <td>3</td>\n",
              "      <td>6</td>\n",
              "      <td>0</td>\n",
              "      <td>276</td>\n",
              "      <td>0</td>\n",
              "    </tr>\n",
              "  </tbody>\n",
              "</table>\n",
              "<p>1460 rows × 11 columns</p>\n",
              "</div>"
            ],
            "text/plain": [
              "      LotArea  OverallQual  ...  GarageArea  AboveMedianPrice\n",
              "0        8450            7  ...         548                 1\n",
              "1        9600            6  ...         460                 1\n",
              "2       11250            7  ...         608                 1\n",
              "3        9550            7  ...         642                 0\n",
              "4       14260            8  ...         836                 1\n",
              "...       ...          ...  ...         ...               ...\n",
              "1455     7917            6  ...         460                 1\n",
              "1456    13175            6  ...         500                 1\n",
              "1457     9042            7  ...         252                 1\n",
              "1458     9717            5  ...         240                 0\n",
              "1459     9937            5  ...         276                 0\n",
              "\n",
              "[1460 rows x 11 columns]"
            ]
          },
          "metadata": {
            "tags": []
          },
          "execution_count": 3
        }
      ]
    },
    {
      "cell_type": "code",
      "metadata": {
        "id": "-Fm1GCSqSWlT"
      },
      "source": [
        "dataset = df.values"
      ],
      "execution_count": 4,
      "outputs": []
    },
    {
      "cell_type": "code",
      "metadata": {
        "colab": {
          "base_uri": "https://localhost:8080/"
        },
        "id": "L5b_YAE4Sgj1",
        "outputId": "6ade08b6-71b7-42e3-f1db-c51377569c3f"
      },
      "source": [
        "dataset"
      ],
      "execution_count": 5,
      "outputs": [
        {
          "output_type": "execute_result",
          "data": {
            "text/plain": [
              "array([[ 8450,     7,     5, ...,     0,   548,     1],\n",
              "       [ 9600,     6,     8, ...,     1,   460,     1],\n",
              "       [11250,     7,     5, ...,     1,   608,     1],\n",
              "       ...,\n",
              "       [ 9042,     7,     9, ...,     2,   252,     1],\n",
              "       [ 9717,     5,     6, ...,     0,   240,     0],\n",
              "       [ 9937,     5,     6, ...,     0,   276,     0]])"
            ]
          },
          "metadata": {
            "tags": []
          },
          "execution_count": 5
        }
      ]
    },
    {
      "cell_type": "code",
      "metadata": {
        "id": "OhxC8O2lSiHy"
      },
      "source": [
        "X = dataset[:,0:10]"
      ],
      "execution_count": 6,
      "outputs": []
    },
    {
      "cell_type": "code",
      "metadata": {
        "id": "fajzGDvvS2kC"
      },
      "source": [
        "Y = dataset[:,10]"
      ],
      "execution_count": 7,
      "outputs": []
    },
    {
      "cell_type": "code",
      "metadata": {
        "id": "D4AzSISmS7Pd"
      },
      "source": [
        "from sklearn import preprocessing"
      ],
      "execution_count": 8,
      "outputs": []
    },
    {
      "cell_type": "code",
      "metadata": {
        "id": "BYzDSpcPVhUt"
      },
      "source": [
        "min_max_scaler = preprocessing.MinMaxScaler()\n",
        "X_scale = min_max_scaler.fit_transform(X)"
      ],
      "execution_count": 9,
      "outputs": []
    },
    {
      "cell_type": "code",
      "metadata": {
        "colab": {
          "base_uri": "https://localhost:8080/"
        },
        "id": "PEQZ4HhQVlF2",
        "outputId": "1a10204f-c750-4ee0-f94c-f83961455bef"
      },
      "source": [
        "X_scale"
      ],
      "execution_count": 10,
      "outputs": [
        {
          "output_type": "execute_result",
          "data": {
            "text/plain": [
              "array([[0.0334198 , 0.66666667, 0.5       , ..., 0.5       , 0.        ,\n",
              "        0.3864598 ],\n",
              "       [0.03879502, 0.55555556, 0.875     , ..., 0.33333333, 0.33333333,\n",
              "        0.32440056],\n",
              "       [0.04650728, 0.66666667, 0.5       , ..., 0.33333333, 0.33333333,\n",
              "        0.42877292],\n",
              "       ...,\n",
              "       [0.03618687, 0.66666667, 1.        , ..., 0.58333333, 0.66666667,\n",
              "        0.17771509],\n",
              "       [0.03934189, 0.44444444, 0.625     , ..., 0.25      , 0.        ,\n",
              "        0.16925247],\n",
              "       [0.04037019, 0.44444444, 0.625     , ..., 0.33333333, 0.        ,\n",
              "        0.19464034]])"
            ]
          },
          "metadata": {
            "tags": []
          },
          "execution_count": 10
        }
      ]
    },
    {
      "cell_type": "code",
      "metadata": {
        "id": "bv-ZL_f4WRdQ"
      },
      "source": [
        "from sklearn.model_selection import train_test_split"
      ],
      "execution_count": 11,
      "outputs": []
    },
    {
      "cell_type": "code",
      "metadata": {
        "id": "S_eoy-vZZPEg"
      },
      "source": [
        "X_train, X_val_and_test, Y_train, Y_val_and_test = train_test_split(X_scale, Y, test_size=0.3)"
      ],
      "execution_count": 12,
      "outputs": []
    },
    {
      "cell_type": "code",
      "metadata": {
        "id": "qC2wZkW7ZTaf"
      },
      "source": [
        "X_val, X_test, Y_val, Y_test = train_test_split(X_val_and_test, Y_val_and_test, test_size=0.5)"
      ],
      "execution_count": 13,
      "outputs": []
    },
    {
      "cell_type": "code",
      "metadata": {
        "colab": {
          "base_uri": "https://localhost:8080/"
        },
        "id": "xxDa6Bf9Zrc-",
        "outputId": "b60b23a3-afe7-47d9-c09b-069d1f7de6e6"
      },
      "source": [
        "print(X_train.shape, X_val.shape, X_test.shape, Y_train.shape, Y_val.shape, Y_test.shape)"
      ],
      "execution_count": 14,
      "outputs": [
        {
          "output_type": "stream",
          "text": [
            "(1022, 10) (219, 10) (219, 10) (1022,) (219,) (219,)\n"
          ],
          "name": "stdout"
        }
      ]
    },
    {
      "cell_type": "code",
      "metadata": {
        "id": "NqUltUWsaH8k"
      },
      "source": [
        "from keras.models import Sequential\n",
        "from keras.layers import Dense"
      ],
      "execution_count": 15,
      "outputs": []
    },
    {
      "cell_type": "code",
      "metadata": {
        "id": "fzMHwccLaZHr"
      },
      "source": [
        "model = Sequential([\n",
        "    Dense(32, activation='relu', input_shape=(10,)),\n",
        "    Dense(32, activation='relu'),\n",
        "    Dense(1, activation='sigmoid'),\n",
        "])"
      ],
      "execution_count": 16,
      "outputs": []
    },
    {
      "cell_type": "code",
      "metadata": {
        "id": "Q7Db-jpEan4C"
      },
      "source": [
        "model.compile(optimizer='sgd',\n",
        "              loss='binary_crossentropy',\n",
        "              metrics=['accuracy'])"
      ],
      "execution_count": 17,
      "outputs": []
    },
    {
      "cell_type": "code",
      "metadata": {
        "colab": {
          "base_uri": "https://localhost:8080/"
        },
        "id": "yYzLgeyXbE9q",
        "outputId": "c38a6ad1-5cdf-4a80-bb71-e09b45a660da"
      },
      "source": [
        "hist = model.fit(X_train, Y_train,\n",
        "          batch_size=32, epochs=100,\n",
        "          validation_data=(X_val, Y_val))"
      ],
      "execution_count": 18,
      "outputs": [
        {
          "output_type": "stream",
          "text": [
            "Epoch 1/100\n",
            "32/32 [==============================] - 16s 19ms/step - loss: 0.6875 - accuracy: 0.5414 - val_loss: 0.6810 - val_accuracy: 0.5616\n",
            "Epoch 2/100\n",
            "32/32 [==============================] - 0s 2ms/step - loss: 0.6808 - accuracy: 0.6096 - val_loss: 0.6725 - val_accuracy: 0.7032\n",
            "Epoch 3/100\n",
            "32/32 [==============================] - 0s 2ms/step - loss: 0.6750 - accuracy: 0.6909 - val_loss: 0.6655 - val_accuracy: 0.7489\n",
            "Epoch 4/100\n",
            "32/32 [==============================] - 0s 2ms/step - loss: 0.6676 - accuracy: 0.6962 - val_loss: 0.6588 - val_accuracy: 0.7534\n",
            "Epoch 5/100\n",
            "32/32 [==============================] - 0s 2ms/step - loss: 0.6623 - accuracy: 0.7128 - val_loss: 0.6520 - val_accuracy: 0.7900\n",
            "Epoch 6/100\n",
            "32/32 [==============================] - 0s 2ms/step - loss: 0.6574 - accuracy: 0.7231 - val_loss: 0.6448 - val_accuracy: 0.7945\n",
            "Epoch 7/100\n",
            "32/32 [==============================] - 0s 2ms/step - loss: 0.6535 - accuracy: 0.7156 - val_loss: 0.6382 - val_accuracy: 0.8082\n",
            "Epoch 8/100\n",
            "32/32 [==============================] - 0s 3ms/step - loss: 0.6415 - accuracy: 0.7551 - val_loss: 0.6312 - val_accuracy: 0.8128\n",
            "Epoch 9/100\n",
            "32/32 [==============================] - 0s 2ms/step - loss: 0.6335 - accuracy: 0.7679 - val_loss: 0.6242 - val_accuracy: 0.8174\n",
            "Epoch 10/100\n",
            "32/32 [==============================] - 0s 2ms/step - loss: 0.6288 - accuracy: 0.7648 - val_loss: 0.6174 - val_accuracy: 0.8128\n",
            "Epoch 11/100\n",
            "32/32 [==============================] - 0s 2ms/step - loss: 0.6239 - accuracy: 0.7675 - val_loss: 0.6100 - val_accuracy: 0.8174\n",
            "Epoch 12/100\n",
            "32/32 [==============================] - 0s 3ms/step - loss: 0.6134 - accuracy: 0.7764 - val_loss: 0.6024 - val_accuracy: 0.8128\n",
            "Epoch 13/100\n",
            "32/32 [==============================] - 0s 2ms/step - loss: 0.6165 - accuracy: 0.7481 - val_loss: 0.5937 - val_accuracy: 0.8265\n",
            "Epoch 14/100\n",
            "32/32 [==============================] - 0s 2ms/step - loss: 0.5972 - accuracy: 0.7930 - val_loss: 0.5855 - val_accuracy: 0.8219\n",
            "Epoch 15/100\n",
            "32/32 [==============================] - 0s 2ms/step - loss: 0.5996 - accuracy: 0.7787 - val_loss: 0.5765 - val_accuracy: 0.8265\n",
            "Epoch 16/100\n",
            "32/32 [==============================] - 0s 3ms/step - loss: 0.5770 - accuracy: 0.8195 - val_loss: 0.5674 - val_accuracy: 0.8219\n",
            "Epoch 17/100\n",
            "32/32 [==============================] - 0s 3ms/step - loss: 0.5766 - accuracy: 0.8056 - val_loss: 0.5586 - val_accuracy: 0.8265\n",
            "Epoch 18/100\n",
            "32/32 [==============================] - 0s 2ms/step - loss: 0.5708 - accuracy: 0.8047 - val_loss: 0.5484 - val_accuracy: 0.8219\n",
            "Epoch 19/100\n",
            "32/32 [==============================] - 0s 2ms/step - loss: 0.5593 - accuracy: 0.8126 - val_loss: 0.5389 - val_accuracy: 0.8219\n",
            "Epoch 20/100\n",
            "32/32 [==============================] - 0s 2ms/step - loss: 0.5490 - accuracy: 0.8222 - val_loss: 0.5290 - val_accuracy: 0.8311\n",
            "Epoch 21/100\n",
            "32/32 [==============================] - 0s 2ms/step - loss: 0.5341 - accuracy: 0.8578 - val_loss: 0.5197 - val_accuracy: 0.8447\n",
            "Epoch 22/100\n",
            "32/32 [==============================] - 0s 2ms/step - loss: 0.5355 - accuracy: 0.8402 - val_loss: 0.5098 - val_accuracy: 0.8447\n",
            "Epoch 23/100\n",
            "32/32 [==============================] - 0s 2ms/step - loss: 0.5223 - accuracy: 0.8251 - val_loss: 0.5002 - val_accuracy: 0.8493\n",
            "Epoch 24/100\n",
            "32/32 [==============================] - 0s 2ms/step - loss: 0.5176 - accuracy: 0.8312 - val_loss: 0.4899 - val_accuracy: 0.8539\n",
            "Epoch 25/100\n",
            "32/32 [==============================] - 0s 2ms/step - loss: 0.5162 - accuracy: 0.8202 - val_loss: 0.4798 - val_accuracy: 0.8630\n",
            "Epoch 26/100\n",
            "32/32 [==============================] - 0s 2ms/step - loss: 0.5001 - accuracy: 0.8500 - val_loss: 0.4704 - val_accuracy: 0.8584\n",
            "Epoch 27/100\n",
            "32/32 [==============================] - 0s 3ms/step - loss: 0.4860 - accuracy: 0.8333 - val_loss: 0.4625 - val_accuracy: 0.8493\n",
            "Epoch 28/100\n",
            "32/32 [==============================] - 0s 3ms/step - loss: 0.4721 - accuracy: 0.8725 - val_loss: 0.4512 - val_accuracy: 0.8584\n",
            "Epoch 29/100\n",
            "32/32 [==============================] - 0s 3ms/step - loss: 0.4710 - accuracy: 0.8681 - val_loss: 0.4419 - val_accuracy: 0.8584\n",
            "Epoch 30/100\n",
            "32/32 [==============================] - 0s 3ms/step - loss: 0.4536 - accuracy: 0.8787 - val_loss: 0.4325 - val_accuracy: 0.8721\n",
            "Epoch 31/100\n",
            "32/32 [==============================] - 0s 3ms/step - loss: 0.4569 - accuracy: 0.8597 - val_loss: 0.4243 - val_accuracy: 0.8630\n",
            "Epoch 32/100\n",
            "32/32 [==============================] - 0s 3ms/step - loss: 0.4368 - accuracy: 0.8686 - val_loss: 0.4151 - val_accuracy: 0.8721\n",
            "Epoch 33/100\n",
            "32/32 [==============================] - 0s 3ms/step - loss: 0.4350 - accuracy: 0.8626 - val_loss: 0.4071 - val_accuracy: 0.8721\n",
            "Epoch 34/100\n",
            "32/32 [==============================] - 0s 2ms/step - loss: 0.4249 - accuracy: 0.8630 - val_loss: 0.3993 - val_accuracy: 0.8767\n",
            "Epoch 35/100\n",
            "32/32 [==============================] - 0s 3ms/step - loss: 0.4328 - accuracy: 0.8612 - val_loss: 0.3910 - val_accuracy: 0.8813\n",
            "Epoch 36/100\n",
            "32/32 [==============================] - 0s 2ms/step - loss: 0.4120 - accuracy: 0.8647 - val_loss: 0.3843 - val_accuracy: 0.8767\n",
            "Epoch 37/100\n",
            "32/32 [==============================] - 0s 2ms/step - loss: 0.3958 - accuracy: 0.8686 - val_loss: 0.3777 - val_accuracy: 0.8721\n",
            "Epoch 38/100\n",
            "32/32 [==============================] - 0s 2ms/step - loss: 0.4112 - accuracy: 0.8601 - val_loss: 0.3707 - val_accuracy: 0.8721\n",
            "Epoch 39/100\n",
            "32/32 [==============================] - 0s 2ms/step - loss: 0.3922 - accuracy: 0.8699 - val_loss: 0.3633 - val_accuracy: 0.8813\n",
            "Epoch 40/100\n",
            "32/32 [==============================] - 0s 2ms/step - loss: 0.3864 - accuracy: 0.8650 - val_loss: 0.3571 - val_accuracy: 0.8858\n",
            "Epoch 41/100\n",
            "32/32 [==============================] - 0s 2ms/step - loss: 0.3708 - accuracy: 0.8803 - val_loss: 0.3515 - val_accuracy: 0.8813\n",
            "Epoch 42/100\n",
            "32/32 [==============================] - 0s 2ms/step - loss: 0.3806 - accuracy: 0.8643 - val_loss: 0.3467 - val_accuracy: 0.8721\n",
            "Epoch 43/100\n",
            "32/32 [==============================] - 0s 2ms/step - loss: 0.3864 - accuracy: 0.8535 - val_loss: 0.3404 - val_accuracy: 0.8813\n",
            "Epoch 44/100\n",
            "32/32 [==============================] - 0s 3ms/step - loss: 0.3782 - accuracy: 0.8740 - val_loss: 0.3360 - val_accuracy: 0.8721\n",
            "Epoch 45/100\n",
            "32/32 [==============================] - 0s 2ms/step - loss: 0.3658 - accuracy: 0.8692 - val_loss: 0.3309 - val_accuracy: 0.8721\n",
            "Epoch 46/100\n",
            "32/32 [==============================] - 0s 2ms/step - loss: 0.3718 - accuracy: 0.8576 - val_loss: 0.3263 - val_accuracy: 0.8813\n",
            "Epoch 47/100\n",
            "32/32 [==============================] - 0s 3ms/step - loss: 0.3684 - accuracy: 0.8720 - val_loss: 0.3231 - val_accuracy: 0.8813\n",
            "Epoch 48/100\n",
            "32/32 [==============================] - 0s 3ms/step - loss: 0.3640 - accuracy: 0.8602 - val_loss: 0.3184 - val_accuracy: 0.8767\n",
            "Epoch 49/100\n",
            "32/32 [==============================] - 0s 2ms/step - loss: 0.3456 - accuracy: 0.8827 - val_loss: 0.3145 - val_accuracy: 0.8767\n",
            "Epoch 50/100\n",
            "32/32 [==============================] - 0s 2ms/step - loss: 0.3562 - accuracy: 0.8523 - val_loss: 0.3112 - val_accuracy: 0.8813\n",
            "Epoch 51/100\n",
            "32/32 [==============================] - 0s 2ms/step - loss: 0.3520 - accuracy: 0.8616 - val_loss: 0.3086 - val_accuracy: 0.8858\n",
            "Epoch 52/100\n",
            "32/32 [==============================] - 0s 2ms/step - loss: 0.3388 - accuracy: 0.8826 - val_loss: 0.3048 - val_accuracy: 0.8813\n",
            "Epoch 53/100\n",
            "32/32 [==============================] - 0s 3ms/step - loss: 0.3375 - accuracy: 0.8681 - val_loss: 0.3026 - val_accuracy: 0.8858\n",
            "Epoch 54/100\n",
            "32/32 [==============================] - 0s 3ms/step - loss: 0.3178 - accuracy: 0.8913 - val_loss: 0.2992 - val_accuracy: 0.8858\n",
            "Epoch 55/100\n",
            "32/32 [==============================] - 0s 3ms/step - loss: 0.3269 - accuracy: 0.8755 - val_loss: 0.2959 - val_accuracy: 0.8858\n",
            "Epoch 56/100\n",
            "32/32 [==============================] - 0s 2ms/step - loss: 0.3087 - accuracy: 0.8893 - val_loss: 0.2934 - val_accuracy: 0.8813\n",
            "Epoch 57/100\n",
            "32/32 [==============================] - 0s 2ms/step - loss: 0.3322 - accuracy: 0.8753 - val_loss: 0.2910 - val_accuracy: 0.8813\n",
            "Epoch 58/100\n",
            "32/32 [==============================] - 0s 2ms/step - loss: 0.3094 - accuracy: 0.8812 - val_loss: 0.2887 - val_accuracy: 0.8813\n",
            "Epoch 59/100\n",
            "32/32 [==============================] - 0s 2ms/step - loss: 0.3359 - accuracy: 0.8692 - val_loss: 0.2869 - val_accuracy: 0.8858\n",
            "Epoch 60/100\n",
            "32/32 [==============================] - 0s 2ms/step - loss: 0.3298 - accuracy: 0.8621 - val_loss: 0.2846 - val_accuracy: 0.8858\n",
            "Epoch 61/100\n",
            "32/32 [==============================] - 0s 2ms/step - loss: 0.3276 - accuracy: 0.8633 - val_loss: 0.2828 - val_accuracy: 0.8858\n",
            "Epoch 62/100\n",
            "32/32 [==============================] - 0s 3ms/step - loss: 0.2940 - accuracy: 0.8869 - val_loss: 0.2805 - val_accuracy: 0.8858\n",
            "Epoch 63/100\n",
            "32/32 [==============================] - 0s 2ms/step - loss: 0.3254 - accuracy: 0.8653 - val_loss: 0.2787 - val_accuracy: 0.8904\n",
            "Epoch 64/100\n",
            "32/32 [==============================] - 0s 2ms/step - loss: 0.3414 - accuracy: 0.8688 - val_loss: 0.2774 - val_accuracy: 0.8904\n",
            "Epoch 65/100\n",
            "32/32 [==============================] - 0s 2ms/step - loss: 0.3283 - accuracy: 0.8698 - val_loss: 0.2754 - val_accuracy: 0.8904\n",
            "Epoch 66/100\n",
            "32/32 [==============================] - 0s 2ms/step - loss: 0.3198 - accuracy: 0.8649 - val_loss: 0.2740 - val_accuracy: 0.8904\n",
            "Epoch 67/100\n",
            "32/32 [==============================] - 0s 2ms/step - loss: 0.3266 - accuracy: 0.8739 - val_loss: 0.2749 - val_accuracy: 0.8904\n",
            "Epoch 68/100\n",
            "32/32 [==============================] - 0s 2ms/step - loss: 0.2986 - accuracy: 0.8903 - val_loss: 0.2708 - val_accuracy: 0.8904\n",
            "Epoch 69/100\n",
            "32/32 [==============================] - 0s 2ms/step - loss: 0.3298 - accuracy: 0.8622 - val_loss: 0.2696 - val_accuracy: 0.8904\n",
            "Epoch 70/100\n",
            "32/32 [==============================] - 0s 3ms/step - loss: 0.3071 - accuracy: 0.8840 - val_loss: 0.2688 - val_accuracy: 0.8950\n",
            "Epoch 71/100\n",
            "32/32 [==============================] - 0s 2ms/step - loss: 0.2968 - accuracy: 0.8732 - val_loss: 0.2671 - val_accuracy: 0.8904\n",
            "Epoch 72/100\n",
            "32/32 [==============================] - 0s 2ms/step - loss: 0.3161 - accuracy: 0.8770 - val_loss: 0.2657 - val_accuracy: 0.8904\n",
            "Epoch 73/100\n",
            "32/32 [==============================] - 0s 2ms/step - loss: 0.2986 - accuracy: 0.8786 - val_loss: 0.2670 - val_accuracy: 0.8950\n",
            "Epoch 74/100\n",
            "32/32 [==============================] - 0s 2ms/step - loss: 0.2870 - accuracy: 0.8856 - val_loss: 0.2640 - val_accuracy: 0.8950\n",
            "Epoch 75/100\n",
            "32/32 [==============================] - 0s 2ms/step - loss: 0.2910 - accuracy: 0.8863 - val_loss: 0.2632 - val_accuracy: 0.8950\n",
            "Epoch 76/100\n",
            "32/32 [==============================] - 0s 3ms/step - loss: 0.2851 - accuracy: 0.8891 - val_loss: 0.2636 - val_accuracy: 0.8995\n",
            "Epoch 77/100\n",
            "32/32 [==============================] - 0s 2ms/step - loss: 0.2915 - accuracy: 0.8967 - val_loss: 0.2604 - val_accuracy: 0.8950\n",
            "Epoch 78/100\n",
            "32/32 [==============================] - 0s 2ms/step - loss: 0.3165 - accuracy: 0.8682 - val_loss: 0.2595 - val_accuracy: 0.8950\n",
            "Epoch 79/100\n",
            "32/32 [==============================] - 0s 2ms/step - loss: 0.3198 - accuracy: 0.8795 - val_loss: 0.2590 - val_accuracy: 0.8995\n",
            "Epoch 80/100\n",
            "32/32 [==============================] - 0s 2ms/step - loss: 0.2981 - accuracy: 0.8766 - val_loss: 0.2598 - val_accuracy: 0.9041\n",
            "Epoch 81/100\n",
            "32/32 [==============================] - 0s 2ms/step - loss: 0.3040 - accuracy: 0.8671 - val_loss: 0.2576 - val_accuracy: 0.8995\n",
            "Epoch 82/100\n",
            "32/32 [==============================] - 0s 2ms/step - loss: 0.2662 - accuracy: 0.8956 - val_loss: 0.2570 - val_accuracy: 0.8995\n",
            "Epoch 83/100\n",
            "32/32 [==============================] - 0s 2ms/step - loss: 0.3043 - accuracy: 0.8889 - val_loss: 0.2569 - val_accuracy: 0.9041\n",
            "Epoch 84/100\n",
            "32/32 [==============================] - 0s 2ms/step - loss: 0.2876 - accuracy: 0.8870 - val_loss: 0.2543 - val_accuracy: 0.8995\n",
            "Epoch 85/100\n",
            "32/32 [==============================] - 0s 3ms/step - loss: 0.2764 - accuracy: 0.8928 - val_loss: 0.2535 - val_accuracy: 0.8767\n",
            "Epoch 86/100\n",
            "32/32 [==============================] - 0s 2ms/step - loss: 0.2821 - accuracy: 0.8935 - val_loss: 0.2524 - val_accuracy: 0.8858\n",
            "Epoch 87/100\n",
            "32/32 [==============================] - 0s 2ms/step - loss: 0.2934 - accuracy: 0.8745 - val_loss: 0.2527 - val_accuracy: 0.9041\n",
            "Epoch 88/100\n",
            "32/32 [==============================] - 0s 3ms/step - loss: 0.2808 - accuracy: 0.8866 - val_loss: 0.2530 - val_accuracy: 0.9041\n",
            "Epoch 89/100\n",
            "32/32 [==============================] - 0s 3ms/step - loss: 0.2585 - accuracy: 0.9030 - val_loss: 0.2513 - val_accuracy: 0.9041\n",
            "Epoch 90/100\n",
            "32/32 [==============================] - 0s 2ms/step - loss: 0.2743 - accuracy: 0.8967 - val_loss: 0.2528 - val_accuracy: 0.9041\n",
            "Epoch 91/100\n",
            "32/32 [==============================] - 0s 2ms/step - loss: 0.2965 - accuracy: 0.8833 - val_loss: 0.2491 - val_accuracy: 0.8950\n",
            "Epoch 92/100\n",
            "32/32 [==============================] - 0s 2ms/step - loss: 0.2761 - accuracy: 0.8916 - val_loss: 0.2495 - val_accuracy: 0.9041\n",
            "Epoch 93/100\n",
            "32/32 [==============================] - 0s 2ms/step - loss: 0.3001 - accuracy: 0.8753 - val_loss: 0.2505 - val_accuracy: 0.9087\n",
            "Epoch 94/100\n",
            "32/32 [==============================] - 0s 2ms/step - loss: 0.3166 - accuracy: 0.8693 - val_loss: 0.2481 - val_accuracy: 0.9041\n",
            "Epoch 95/100\n",
            "32/32 [==============================] - 0s 2ms/step - loss: 0.2861 - accuracy: 0.8851 - val_loss: 0.2478 - val_accuracy: 0.9041\n",
            "Epoch 96/100\n",
            "32/32 [==============================] - 0s 3ms/step - loss: 0.2985 - accuracy: 0.8851 - val_loss: 0.2461 - val_accuracy: 0.8950\n",
            "Epoch 97/100\n",
            "32/32 [==============================] - 0s 3ms/step - loss: 0.2741 - accuracy: 0.8873 - val_loss: 0.2472 - val_accuracy: 0.9087\n",
            "Epoch 98/100\n",
            "32/32 [==============================] - 0s 2ms/step - loss: 0.2703 - accuracy: 0.8877 - val_loss: 0.2463 - val_accuracy: 0.9041\n",
            "Epoch 99/100\n",
            "32/32 [==============================] - 0s 2ms/step - loss: 0.2868 - accuracy: 0.8954 - val_loss: 0.2453 - val_accuracy: 0.9041\n",
            "Epoch 100/100\n",
            "32/32 [==============================] - 0s 2ms/step - loss: 0.2687 - accuracy: 0.9020 - val_loss: 0.2447 - val_accuracy: 0.9041\n"
          ],
          "name": "stdout"
        }
      ]
    },
    {
      "cell_type": "code",
      "metadata": {
        "colab": {
          "base_uri": "https://localhost:8080/"
        },
        "id": "DBWHA-C1bov3",
        "outputId": "d10bf6f4-e735-421a-9d07-1dff51034d81"
      },
      "source": [
        "model.evaluate(X_test, Y_test)[1]"
      ],
      "execution_count": 19,
      "outputs": [
        {
          "output_type": "stream",
          "text": [
            "7/7 [==============================] - 0s 2ms/step - loss: 0.2456 - accuracy: 0.8904\n"
          ],
          "name": "stdout"
        },
        {
          "output_type": "execute_result",
          "data": {
            "text/plain": [
              "0.8904109597206116"
            ]
          },
          "metadata": {
            "tags": []
          },
          "execution_count": 19
        }
      ]
    },
    {
      "cell_type": "code",
      "metadata": {
        "id": "nnjd8KZAb_5z"
      },
      "source": [
        "import matplotlib.pyplot as plt"
      ],
      "execution_count": 20,
      "outputs": []
    },
    {
      "cell_type": "code",
      "metadata": {
        "colab": {
          "base_uri": "https://localhost:8080/",
          "height": 295
        },
        "id": "DNsjLhowcHCW",
        "outputId": "0d898a93-7659-4cfe-91e3-d8fc8608f494"
      },
      "source": [
        "plt.plot(hist.history['loss'])\n",
        "plt.plot(hist.history['val_loss'])\n",
        "plt.title('Model loss')\n",
        "plt.ylabel('Loss')\n",
        "plt.xlabel('Epoch')\n",
        "plt.legend(['Train', 'Val'], loc='upper right')\n",
        "plt.show()"
      ],
      "execution_count": 21,
      "outputs": [
        {
          "output_type": "display_data",
          "data": {
            "image/png": "[encoded data removed]",
            "text/plain": [
              "<Figure size 432x288 with 1 Axes>"
            ]
          },
          "metadata": {
            "tags": [],
            "needs_background": "light"
          }
        }
      ]
    },
    {
      "cell_type": "code",
      "metadata": {
        "colab": {
          "base_uri": "https://localhost:8080/",
          "height": 295
        },
        "id": "AX2iDdsXcM4I",
        "outputId": "dd37b3eb-1911-48ca-f3d0-fbcfa598edce"
      },
      "source": [
        "plt.plot(hist.history['accuracy'])\n",
        "plt.plot(hist.history['val_accuracy'])\n",
        "plt.title('Model accuracy')\n",
        "plt.ylabel('Accuracy')\n",
        "plt.xlabel('Epoch')\n",
        "plt.legend(['Train', 'Val'], loc='lower right')\n",
        "plt.show()"
      ],
      "execution_count": 22,
      "outputs": [
        {
          "output_type": "display_data",
          "data": {
            "image/png": "[encoded data removed]",
            "text/plain": [
              "<Figure size 432x288 with 1 Axes>"
            ]
          },
          "metadata": {
            "tags": [],
            "needs_background": "light"
          }
        }
      ]
    },
    {
      "cell_type": "code",
      "metadata": {
        "id": "mmHYEWofi7pu"
      },
      "source": [
        "model_2 = Sequential([\n",
        "    Dense(1000, activation='relu', input_shape=(10,)),\n",
        "    Dense(1000, activation='relu'),\n",
        "    Dense(1000, activation='relu'),\n",
        "    Dense(1000, activation='relu'),\n",
        "    Dense(1, activation='sigmoid'),\n",
        "])"
      ],
      "execution_count": 23,
      "outputs": []
    },
    {
      "cell_type": "code",
      "metadata": {
        "id": "lOmMmufHi-R6"
      },
      "source": [
        "model_2.compile(optimizer='adam',\n",
        "              loss='binary_crossentropy',\n",
        "              metrics=['accuracy'])"
      ],
      "execution_count": 24,
      "outputs": []
    },
    {
      "cell_type": "code",
      "metadata": {
        "colab": {
          "base_uri": "https://localhost:8080/"
        },
        "id": "BV96cgZpjW95",
        "outputId": "8722b808-40d8-4669-eb40-0152652277e1"
      },
      "source": [
        "hist_2 = model_2.fit(X_train, Y_train,\n",
        "          batch_size=32, epochs=100,\n",
        "          validation_data=(X_val, Y_val))"
      ],
      "execution_count": 25,
      "outputs": [
        {
          "output_type": "stream",
          "text": [
            "Epoch 1/100\n",
            "32/32 [==============================] - 3s 56ms/step - loss: 0.5451 - accuracy: 0.6851 - val_loss: 0.3046 - val_accuracy: 0.8676\n",
            "Epoch 2/100\n",
            "32/32 [==============================] - 1s 44ms/step - loss: 0.3490 - accuracy: 0.8625 - val_loss: 0.2919 - val_accuracy: 0.8950\n",
            "Epoch 3/100\n",
            "32/32 [==============================] - 1s 43ms/step - loss: 0.2857 - accuracy: 0.8951 - val_loss: 0.2713 - val_accuracy: 0.8904\n",
            "Epoch 4/100\n",
            "32/32 [==============================] - 1s 44ms/step - loss: 0.3061 - accuracy: 0.8804 - val_loss: 0.2483 - val_accuracy: 0.9041\n",
            "Epoch 5/100\n",
            "32/32 [==============================] - 1s 43ms/step - loss: 0.2649 - accuracy: 0.9024 - val_loss: 0.2639 - val_accuracy: 0.8676\n",
            "Epoch 6/100\n",
            "32/32 [==============================] - 1s 44ms/step - loss: 0.2763 - accuracy: 0.8861 - val_loss: 0.2774 - val_accuracy: 0.8950\n",
            "Epoch 7/100\n",
            "32/32 [==============================] - 1s 44ms/step - loss: 0.3012 - accuracy: 0.8781 - val_loss: 0.2283 - val_accuracy: 0.8995\n",
            "Epoch 8/100\n",
            "32/32 [==============================] - 1s 44ms/step - loss: 0.2648 - accuracy: 0.8890 - val_loss: 0.2911 - val_accuracy: 0.8676\n",
            "Epoch 9/100\n",
            "32/32 [==============================] - 1s 44ms/step - loss: 0.2708 - accuracy: 0.8890 - val_loss: 0.2562 - val_accuracy: 0.8950\n",
            "Epoch 10/100\n",
            "32/32 [==============================] - 2s 54ms/step - loss: 0.2708 - accuracy: 0.8794 - val_loss: 0.2643 - val_accuracy: 0.9224\n",
            "Epoch 11/100\n",
            "32/32 [==============================] - 1s 45ms/step - loss: 0.2562 - accuracy: 0.9088 - val_loss: 0.2437 - val_accuracy: 0.9041\n",
            "Epoch 12/100\n",
            "32/32 [==============================] - 1s 45ms/step - loss: 0.2386 - accuracy: 0.8985 - val_loss: 0.3411 - val_accuracy: 0.8858\n",
            "Epoch 13/100\n",
            "32/32 [==============================] - 1s 43ms/step - loss: 0.2673 - accuracy: 0.8942 - val_loss: 0.2295 - val_accuracy: 0.9087\n",
            "Epoch 14/100\n",
            "32/32 [==============================] - 1s 43ms/step - loss: 0.2294 - accuracy: 0.9044 - val_loss: 0.2447 - val_accuracy: 0.8904\n",
            "Epoch 15/100\n",
            "32/32 [==============================] - 1s 45ms/step - loss: 0.2171 - accuracy: 0.9069 - val_loss: 0.2311 - val_accuracy: 0.9132\n",
            "Epoch 16/100\n",
            "32/32 [==============================] - 1s 43ms/step - loss: 0.2498 - accuracy: 0.8943 - val_loss: 0.2370 - val_accuracy: 0.9041\n",
            "Epoch 17/100\n",
            "32/32 [==============================] - 1s 45ms/step - loss: 0.2528 - accuracy: 0.8951 - val_loss: 0.2115 - val_accuracy: 0.9132\n",
            "Epoch 18/100\n",
            "32/32 [==============================] - 1s 44ms/step - loss: 0.1821 - accuracy: 0.9178 - val_loss: 0.2359 - val_accuracy: 0.9132\n",
            "Epoch 19/100\n",
            "32/32 [==============================] - 1s 45ms/step - loss: 0.2426 - accuracy: 0.8945 - val_loss: 0.2788 - val_accuracy: 0.8950\n",
            "Epoch 20/100\n",
            "32/32 [==============================] - 1s 43ms/step - loss: 0.2236 - accuracy: 0.9141 - val_loss: 0.2307 - val_accuracy: 0.9132\n",
            "Epoch 21/100\n",
            "32/32 [==============================] - 1s 43ms/step - loss: 0.1942 - accuracy: 0.9250 - val_loss: 0.2383 - val_accuracy: 0.8995\n",
            "Epoch 22/100\n",
            "32/32 [==============================] - 1s 45ms/step - loss: 0.2226 - accuracy: 0.9105 - val_loss: 0.2614 - val_accuracy: 0.8995\n",
            "Epoch 23/100\n",
            "32/32 [==============================] - 1s 46ms/step - loss: 0.1906 - accuracy: 0.9201 - val_loss: 0.3194 - val_accuracy: 0.8539\n",
            "Epoch 24/100\n",
            "32/32 [==============================] - 1s 47ms/step - loss: 0.1986 - accuracy: 0.9087 - val_loss: 0.2514 - val_accuracy: 0.9041\n",
            "Epoch 25/100\n",
            "32/32 [==============================] - 1s 43ms/step - loss: 0.1609 - accuracy: 0.9329 - val_loss: 0.2802 - val_accuracy: 0.8676\n",
            "Epoch 26/100\n",
            "32/32 [==============================] - 1s 45ms/step - loss: 0.2166 - accuracy: 0.9073 - val_loss: 0.2371 - val_accuracy: 0.8995\n",
            "Epoch 27/100\n",
            "32/32 [==============================] - 1s 44ms/step - loss: 0.2038 - accuracy: 0.9082 - val_loss: 0.2433 - val_accuracy: 0.9132\n",
            "Epoch 28/100\n",
            "32/32 [==============================] - 1s 42ms/step - loss: 0.1838 - accuracy: 0.9099 - val_loss: 0.2556 - val_accuracy: 0.8813\n",
            "Epoch 29/100\n",
            "32/32 [==============================] - 1s 42ms/step - loss: 0.1862 - accuracy: 0.9181 - val_loss: 0.2573 - val_accuracy: 0.8995\n",
            "Epoch 30/100\n",
            "32/32 [==============================] - 1s 44ms/step - loss: 0.2141 - accuracy: 0.9097 - val_loss: 0.2658 - val_accuracy: 0.8995\n",
            "Epoch 31/100\n",
            "32/32 [==============================] - 1s 42ms/step - loss: 0.1962 - accuracy: 0.9200 - val_loss: 0.2576 - val_accuracy: 0.8995\n",
            "Epoch 32/100\n",
            "32/32 [==============================] - 1s 43ms/step - loss: 0.1916 - accuracy: 0.9230 - val_loss: 0.2878 - val_accuracy: 0.9087\n",
            "Epoch 33/100\n",
            "32/32 [==============================] - 1s 43ms/step - loss: 0.2164 - accuracy: 0.9173 - val_loss: 0.2522 - val_accuracy: 0.9087\n",
            "Epoch 34/100\n",
            "32/32 [==============================] - 1s 43ms/step - loss: 0.1703 - accuracy: 0.9297 - val_loss: 0.2671 - val_accuracy: 0.9178\n",
            "Epoch 35/100\n",
            "32/32 [==============================] - 1s 43ms/step - loss: 0.1938 - accuracy: 0.9155 - val_loss: 0.2407 - val_accuracy: 0.8950\n",
            "Epoch 36/100\n",
            "32/32 [==============================] - 1s 42ms/step - loss: 0.1795 - accuracy: 0.9359 - val_loss: 0.3180 - val_accuracy: 0.8767\n",
            "Epoch 37/100\n",
            "32/32 [==============================] - 1s 44ms/step - loss: 0.2222 - accuracy: 0.9075 - val_loss: 0.2642 - val_accuracy: 0.9041\n",
            "Epoch 38/100\n",
            "32/32 [==============================] - 1s 44ms/step - loss: 0.1720 - accuracy: 0.9314 - val_loss: 0.2852 - val_accuracy: 0.8995\n",
            "Epoch 39/100\n",
            "32/32 [==============================] - 1s 43ms/step - loss: 0.1719 - accuracy: 0.9218 - val_loss: 0.2715 - val_accuracy: 0.9087\n",
            "Epoch 40/100\n",
            "32/32 [==============================] - 1s 43ms/step - loss: 0.1422 - accuracy: 0.9424 - val_loss: 0.3058 - val_accuracy: 0.8858\n",
            "Epoch 41/100\n",
            "32/32 [==============================] - 1s 43ms/step - loss: 0.2046 - accuracy: 0.9220 - val_loss: 0.2716 - val_accuracy: 0.9087\n",
            "Epoch 42/100\n",
            "32/32 [==============================] - 1s 44ms/step - loss: 0.2256 - accuracy: 0.9146 - val_loss: 0.3582 - val_accuracy: 0.8904\n",
            "Epoch 43/100\n",
            "32/32 [==============================] - 1s 42ms/step - loss: 0.2008 - accuracy: 0.9134 - val_loss: 0.2800 - val_accuracy: 0.8950\n",
            "Epoch 44/100\n",
            "32/32 [==============================] - 1s 44ms/step - loss: 0.1758 - accuracy: 0.9227 - val_loss: 0.2629 - val_accuracy: 0.8904\n",
            "Epoch 45/100\n",
            "32/32 [==============================] - 1s 43ms/step - loss: 0.1621 - accuracy: 0.9356 - val_loss: 0.3014 - val_accuracy: 0.8904\n",
            "Epoch 46/100\n",
            "32/32 [==============================] - 1s 43ms/step - loss: 0.1751 - accuracy: 0.9269 - val_loss: 0.3096 - val_accuracy: 0.8995\n",
            "Epoch 47/100\n",
            "32/32 [==============================] - 1s 41ms/step - loss: 0.1468 - accuracy: 0.9357 - val_loss: 0.3071 - val_accuracy: 0.8950\n",
            "Epoch 48/100\n",
            "32/32 [==============================] - 1s 42ms/step - loss: 0.1734 - accuracy: 0.9346 - val_loss: 0.2732 - val_accuracy: 0.8995\n",
            "Epoch 49/100\n",
            "32/32 [==============================] - 1s 44ms/step - loss: 0.1758 - accuracy: 0.9307 - val_loss: 0.3034 - val_accuracy: 0.8950\n",
            "Epoch 50/100\n",
            "32/32 [==============================] - 1s 42ms/step - loss: 0.1762 - accuracy: 0.9210 - val_loss: 0.3235 - val_accuracy: 0.8995\n",
            "Epoch 51/100\n",
            "32/32 [==============================] - 1s 42ms/step - loss: 0.1444 - accuracy: 0.9365 - val_loss: 0.3108 - val_accuracy: 0.8904\n",
            "Epoch 52/100\n",
            "32/32 [==============================] - 1s 42ms/step - loss: 0.1554 - accuracy: 0.9320 - val_loss: 0.3592 - val_accuracy: 0.8813\n",
            "Epoch 53/100\n",
            "32/32 [==============================] - 1s 43ms/step - loss: 0.1403 - accuracy: 0.9487 - val_loss: 0.3181 - val_accuracy: 0.8767\n",
            "Epoch 54/100\n",
            "32/32 [==============================] - 1s 42ms/step - loss: 0.1589 - accuracy: 0.9336 - val_loss: 0.3476 - val_accuracy: 0.8813\n",
            "Epoch 55/100\n",
            "32/32 [==============================] - 1s 42ms/step - loss: 0.1509 - accuracy: 0.9228 - val_loss: 0.3293 - val_accuracy: 0.8767\n",
            "Epoch 56/100\n",
            "32/32 [==============================] - 1s 43ms/step - loss: 0.1894 - accuracy: 0.9058 - val_loss: 0.3518 - val_accuracy: 0.9041\n",
            "Epoch 57/100\n",
            "32/32 [==============================] - 1s 41ms/step - loss: 0.1488 - accuracy: 0.9321 - val_loss: 0.3459 - val_accuracy: 0.8995\n",
            "Epoch 58/100\n",
            "32/32 [==============================] - 1s 43ms/step - loss: 0.1566 - accuracy: 0.9315 - val_loss: 0.3198 - val_accuracy: 0.8721\n",
            "Epoch 59/100\n",
            "32/32 [==============================] - 1s 43ms/step - loss: 0.1687 - accuracy: 0.9337 - val_loss: 0.3277 - val_accuracy: 0.8858\n",
            "Epoch 60/100\n",
            "32/32 [==============================] - 1s 43ms/step - loss: 0.1360 - accuracy: 0.9515 - val_loss: 0.3977 - val_accuracy: 0.8995\n",
            "Epoch 61/100\n",
            "32/32 [==============================] - 1s 45ms/step - loss: 0.1440 - accuracy: 0.9386 - val_loss: 0.3709 - val_accuracy: 0.8767\n",
            "Epoch 62/100\n",
            "32/32 [==============================] - 1s 43ms/step - loss: 0.1928 - accuracy: 0.9203 - val_loss: 0.3032 - val_accuracy: 0.9132\n",
            "Epoch 63/100\n",
            "32/32 [==============================] - 1s 42ms/step - loss: 0.1490 - accuracy: 0.9379 - val_loss: 0.3630 - val_accuracy: 0.9087\n",
            "Epoch 64/100\n",
            "32/32 [==============================] - 1s 44ms/step - loss: 0.1200 - accuracy: 0.9517 - val_loss: 0.3489 - val_accuracy: 0.8904\n",
            "Epoch 65/100\n",
            "32/32 [==============================] - 1s 44ms/step - loss: 0.1246 - accuracy: 0.9541 - val_loss: 0.4226 - val_accuracy: 0.8584\n",
            "Epoch 66/100\n",
            "32/32 [==============================] - 1s 42ms/step - loss: 0.1901 - accuracy: 0.9199 - val_loss: 0.3447 - val_accuracy: 0.9041\n",
            "Epoch 67/100\n",
            "32/32 [==============================] - 1s 42ms/step - loss: 0.1371 - accuracy: 0.9376 - val_loss: 0.3405 - val_accuracy: 0.8995\n",
            "Epoch 68/100\n",
            "32/32 [==============================] - 1s 43ms/step - loss: 0.1388 - accuracy: 0.9453 - val_loss: 0.3707 - val_accuracy: 0.8858\n",
            "Epoch 69/100\n",
            "32/32 [==============================] - 1s 42ms/step - loss: 0.1455 - accuracy: 0.9394 - val_loss: 0.3788 - val_accuracy: 0.8858\n",
            "Epoch 70/100\n",
            "32/32 [==============================] - 1s 41ms/step - loss: 0.1167 - accuracy: 0.9504 - val_loss: 0.3955 - val_accuracy: 0.8721\n",
            "Epoch 71/100\n",
            "32/32 [==============================] - 1s 42ms/step - loss: 0.1347 - accuracy: 0.9379 - val_loss: 0.3852 - val_accuracy: 0.8676\n",
            "Epoch 72/100\n",
            "32/32 [==============================] - 1s 43ms/step - loss: 0.1822 - accuracy: 0.9011 - val_loss: 0.3572 - val_accuracy: 0.8995\n",
            "Epoch 73/100\n",
            "32/32 [==============================] - 1s 42ms/step - loss: 0.1221 - accuracy: 0.9411 - val_loss: 0.4003 - val_accuracy: 0.8904\n",
            "Epoch 74/100\n",
            "32/32 [==============================] - 1s 42ms/step - loss: 0.1161 - accuracy: 0.9481 - val_loss: 0.3735 - val_accuracy: 0.9041\n",
            "Epoch 75/100\n",
            "32/32 [==============================] - 1s 42ms/step - loss: 0.1130 - accuracy: 0.9536 - val_loss: 0.4987 - val_accuracy: 0.8904\n",
            "Epoch 76/100\n",
            "32/32 [==============================] - 1s 41ms/step - loss: 0.1348 - accuracy: 0.9414 - val_loss: 0.4104 - val_accuracy: 0.8858\n",
            "Epoch 77/100\n",
            "32/32 [==============================] - 1s 42ms/step - loss: 0.1429 - accuracy: 0.9384 - val_loss: 0.4010 - val_accuracy: 0.9087\n",
            "Epoch 78/100\n",
            "32/32 [==============================] - 1s 42ms/step - loss: 0.1219 - accuracy: 0.9484 - val_loss: 0.4954 - val_accuracy: 0.8813\n",
            "Epoch 79/100\n",
            "32/32 [==============================] - 1s 43ms/step - loss: 0.1708 - accuracy: 0.9292 - val_loss: 0.4863 - val_accuracy: 0.8995\n",
            "Epoch 80/100\n",
            "32/32 [==============================] - 1s 43ms/step - loss: 0.1487 - accuracy: 0.9283 - val_loss: 0.3497 - val_accuracy: 0.9041\n",
            "Epoch 81/100\n",
            "32/32 [==============================] - 1s 44ms/step - loss: 0.1443 - accuracy: 0.9440 - val_loss: 0.4309 - val_accuracy: 0.8904\n",
            "Epoch 82/100\n",
            "32/32 [==============================] - 1s 43ms/step - loss: 0.1294 - accuracy: 0.9454 - val_loss: 0.4050 - val_accuracy: 0.8904\n",
            "Epoch 83/100\n",
            "32/32 [==============================] - 1s 46ms/step - loss: 0.1539 - accuracy: 0.9240 - val_loss: 0.4329 - val_accuracy: 0.8950\n",
            "Epoch 84/100\n",
            "32/32 [==============================] - 1s 45ms/step - loss: 0.1334 - accuracy: 0.9376 - val_loss: 0.4417 - val_accuracy: 0.8813\n",
            "Epoch 85/100\n",
            "32/32 [==============================] - 1s 42ms/step - loss: 0.1455 - accuracy: 0.9352 - val_loss: 0.3548 - val_accuracy: 0.8950\n",
            "Epoch 86/100\n",
            "32/32 [==============================] - 1s 43ms/step - loss: 0.1252 - accuracy: 0.9482 - val_loss: 0.3924 - val_accuracy: 0.9041\n",
            "Epoch 87/100\n",
            "32/32 [==============================] - 1s 44ms/step - loss: 0.1575 - accuracy: 0.9362 - val_loss: 0.4598 - val_accuracy: 0.8904\n",
            "Epoch 88/100\n",
            "32/32 [==============================] - 1s 43ms/step - loss: 0.1264 - accuracy: 0.9477 - val_loss: 0.4968 - val_accuracy: 0.8584\n",
            "Epoch 89/100\n",
            "32/32 [==============================] - 1s 44ms/step - loss: 0.1410 - accuracy: 0.9331 - val_loss: 0.3979 - val_accuracy: 0.9041\n",
            "Epoch 90/100\n",
            "32/32 [==============================] - 1s 45ms/step - loss: 0.1113 - accuracy: 0.9641 - val_loss: 0.4034 - val_accuracy: 0.8858\n",
            "Epoch 91/100\n",
            "32/32 [==============================] - 1s 44ms/step - loss: 0.1100 - accuracy: 0.9432 - val_loss: 0.3532 - val_accuracy: 0.8721\n",
            "Epoch 92/100\n",
            "32/32 [==============================] - 1s 44ms/step - loss: 0.1203 - accuracy: 0.9560 - val_loss: 0.4787 - val_accuracy: 0.8950\n",
            "Epoch 93/100\n",
            "32/32 [==============================] - 1s 44ms/step - loss: 0.0932 - accuracy: 0.9679 - val_loss: 0.4846 - val_accuracy: 0.8630\n",
            "Epoch 94/100\n",
            "32/32 [==============================] - 1s 44ms/step - loss: 0.1166 - accuracy: 0.9469 - val_loss: 0.4631 - val_accuracy: 0.8995\n",
            "Epoch 95/100\n",
            "32/32 [==============================] - 1s 44ms/step - loss: 0.1214 - accuracy: 0.9505 - val_loss: 0.5034 - val_accuracy: 0.8493\n",
            "Epoch 96/100\n",
            "32/32 [==============================] - 1s 44ms/step - loss: 0.1257 - accuracy: 0.9430 - val_loss: 0.4920 - val_accuracy: 0.8630\n",
            "Epoch 97/100\n",
            "32/32 [==============================] - 1s 47ms/step - loss: 0.1146 - accuracy: 0.9544 - val_loss: 0.4317 - val_accuracy: 0.8721\n",
            "Epoch 98/100\n",
            "32/32 [==============================] - 1s 44ms/step - loss: 0.1584 - accuracy: 0.9276 - val_loss: 0.4396 - val_accuracy: 0.8950\n",
            "Epoch 99/100\n",
            "32/32 [==============================] - 1s 44ms/step - loss: 0.1368 - accuracy: 0.9457 - val_loss: 0.4827 - val_accuracy: 0.9041\n",
            "Epoch 100/100\n",
            "32/32 [==============================] - 1s 45ms/step - loss: 0.0934 - accuracy: 0.9662 - val_loss: 0.5346 - val_accuracy: 0.8950\n"
          ],
          "name": "stdout"
        }
      ]
    },
    {
      "cell_type": "code",
      "metadata": {
        "colab": {
          "base_uri": "https://localhost:8080/",
          "height": 295
        },
        "id": "a21v9VbCmZv7",
        "outputId": "2263e865-d6a0-43c7-be2e-a88b1293bf08"
      },
      "source": [
        "plt.plot(hist_2.history['loss'])\n",
        "plt.plot(hist_2.history['val_loss'])\n",
        "plt.title('Model loss')\n",
        "plt.ylabel('Loss')\n",
        "plt.xlabel('Epoch')\n",
        "plt.legend(['Train', 'Val'], loc='upper right')\n",
        "plt.show()"
      ],
      "execution_count": 26,
      "outputs": [
        {
          "output_type": "display_data",
          "data": {
            "image/png": "[encoded data removed]",
            "text/plain": [
              "<Figure size 432x288 with 1 Axes>"
            ]
          },
          "metadata": {
            "tags": [],
            "needs_background": "light"
          }
        }
      ]
    },
    {
      "cell_type": "code",
      "metadata": {
        "colab": {
          "base_uri": "https://localhost:8080/",
          "height": 295
        },
        "id": "X3rnJDE9mf66",
        "outputId": "cbaaf973-8617-47bd-80fd-97b46439a586"
      },
      "source": [
        "plt.plot(hist_2.history['accuracy'])\n",
        "plt.plot(hist_2.history['val_accuracy'])\n",
        "plt.title('Model accuracy')\n",
        "plt.ylabel('Accuracy')\n",
        "plt.xlabel('Epoch')\n",
        "plt.legend(['Train', 'Val'], loc='lower right')\n",
        "plt.show()"
      ],
      "execution_count": 27,
      "outputs": [
        {
          "output_type": "display_data",
          "data": {
            "image/png": "[encoded data removed]",
            "text/plain": [
              "<Figure size 432x288 with 1 Axes>"
            ]
          },
          "metadata": {
            "tags": [],
            "needs_background": "light"
          }
        }
      ]
    },
    {
      "cell_type": "code",
      "metadata": {
        "id": "GMdrGUVqmvID"
      },
      "source": [
        "from keras.layers import Dropout\n",
        "from keras import regularizers"
      ],
      "execution_count": 28,
      "outputs": []
    },
    {
      "cell_type": "code",
      "metadata": {
        "id": "nX-Efbn9oyF9"
      },
      "source": [
        "model_3 = Sequential([\n",
        "    Dense(1000, activation='relu', kernel_regularizer=regularizers.l2(0.01), input_shape=(10,)),\n",
        "    Dropout(0.3),\n",
        "    Dense(1000, activation='relu', kernel_regularizer=regularizers.l2(0.01)),\n",
        "    Dropout(0.3),\n",
        "    Dense(1000, activation='relu', kernel_regularizer=regularizers.l2(0.01)),\n",
        "    Dropout(0.3),\n",
        "    Dense(1000, activation='relu', kernel_regularizer=regularizers.l2(0.01)),\n",
        "    Dropout(0.3),\n",
        "    Dense(1, activation='sigmoid', kernel_regularizer=regularizers.l2(0.01)),\n",
        "])\n"
      ],
      "execution_count": 29,
      "outputs": []
    },
    {
      "cell_type": "code",
      "metadata": {
        "id": "klstraPmqgq6"
      },
      "source": [
        "model_3.compile(optimizer='adam',\n",
        "              loss='binary_crossentropy',\n",
        "              metrics=['accuracy'])"
      ],
      "execution_count": 30,
      "outputs": []
    },
    {
      "cell_type": "code",
      "metadata": {
        "colab": {
          "base_uri": "https://localhost:8080/"
        },
        "id": "8m4D-_d7tApx",
        "outputId": "8bfa1fde-3df6-4e53-c378-32470ddb7107"
      },
      "source": [
        "hist_3 = model_3.fit(X_train, Y_train,\n",
        "          batch_size=32, epochs=100,\n",
        "          validation_data=(X_val, Y_val))"
      ],
      "execution_count": 31,
      "outputs": [
        {
          "output_type": "stream",
          "text": [
            "Epoch 1/100\n",
            "32/32 [==============================] - 4s 68ms/step - loss: 21.1516 - accuracy: 0.5466 - val_loss: 3.9061 - val_accuracy: 0.8311\n",
            "Epoch 2/100\n",
            "32/32 [==============================] - 2s 53ms/step - loss: 2.5020 - accuracy: 0.8208 - val_loss: 0.6653 - val_accuracy: 0.8858\n",
            "Epoch 3/100\n",
            "32/32 [==============================] - 2s 53ms/step - loss: 0.5917 - accuracy: 0.8668 - val_loss: 0.5077 - val_accuracy: 0.8676\n",
            "Epoch 4/100\n",
            "32/32 [==============================] - 2s 52ms/step - loss: 0.5058 - accuracy: 0.8599 - val_loss: 0.4804 - val_accuracy: 0.8584\n",
            "Epoch 5/100\n",
            "32/32 [==============================] - 2s 55ms/step - loss: 0.5059 - accuracy: 0.8542 - val_loss: 0.4379 - val_accuracy: 0.8950\n",
            "Epoch 6/100\n",
            "32/32 [==============================] - 2s 54ms/step - loss: 0.4869 - accuracy: 0.8688 - val_loss: 0.4319 - val_accuracy: 0.8904\n",
            "Epoch 7/100\n",
            "32/32 [==============================] - 2s 53ms/step - loss: 0.4709 - accuracy: 0.8804 - val_loss: 0.4907 - val_accuracy: 0.8539\n",
            "Epoch 8/100\n",
            "32/32 [==============================] - 2s 53ms/step - loss: 0.4903 - accuracy: 0.8624 - val_loss: 0.4184 - val_accuracy: 0.8950\n",
            "Epoch 9/100\n",
            "32/32 [==============================] - 2s 54ms/step - loss: 0.4625 - accuracy: 0.8774 - val_loss: 0.4226 - val_accuracy: 0.8904\n",
            "Epoch 10/100\n",
            "32/32 [==============================] - 2s 53ms/step - loss: 0.4845 - accuracy: 0.8824 - val_loss: 0.4286 - val_accuracy: 0.8995\n",
            "Epoch 11/100\n",
            "32/32 [==============================] - 2s 53ms/step - loss: 0.4713 - accuracy: 0.8789 - val_loss: 0.4285 - val_accuracy: 0.8813\n",
            "Epoch 12/100\n",
            "32/32 [==============================] - 2s 52ms/step - loss: 0.4693 - accuracy: 0.8692 - val_loss: 0.4337 - val_accuracy: 0.8858\n",
            "Epoch 13/100\n",
            "32/32 [==============================] - 2s 52ms/step - loss: 0.4551 - accuracy: 0.8751 - val_loss: 0.4400 - val_accuracy: 0.8767\n",
            "Epoch 14/100\n",
            "32/32 [==============================] - 2s 52ms/step - loss: 0.4878 - accuracy: 0.8552 - val_loss: 0.4979 - val_accuracy: 0.8539\n",
            "Epoch 15/100\n",
            "32/32 [==============================] - 2s 55ms/step - loss: 0.4679 - accuracy: 0.8882 - val_loss: 0.4155 - val_accuracy: 0.8858\n",
            "Epoch 16/100\n",
            "32/32 [==============================] - 2s 54ms/step - loss: 0.4703 - accuracy: 0.8830 - val_loss: 0.4171 - val_accuracy: 0.8904\n",
            "Epoch 17/100\n",
            "32/32 [==============================] - 2s 53ms/step - loss: 0.4802 - accuracy: 0.8626 - val_loss: 0.4092 - val_accuracy: 0.8995\n",
            "Epoch 18/100\n",
            "32/32 [==============================] - 2s 51ms/step - loss: 0.4430 - accuracy: 0.8986 - val_loss: 0.4165 - val_accuracy: 0.8858\n",
            "Epoch 19/100\n",
            "32/32 [==============================] - 2s 53ms/step - loss: 0.4525 - accuracy: 0.8834 - val_loss: 0.4182 - val_accuracy: 0.8995\n",
            "Epoch 20/100\n",
            "32/32 [==============================] - 2s 51ms/step - loss: 0.4447 - accuracy: 0.8768 - val_loss: 0.4230 - val_accuracy: 0.8813\n",
            "Epoch 21/100\n",
            "32/32 [==============================] - 2s 53ms/step - loss: 0.5014 - accuracy: 0.8481 - val_loss: 0.4014 - val_accuracy: 0.8950\n",
            "Epoch 22/100\n",
            "32/32 [==============================] - 2s 53ms/step - loss: 0.4537 - accuracy: 0.8760 - val_loss: 0.4097 - val_accuracy: 0.8858\n",
            "Epoch 23/100\n",
            "32/32 [==============================] - 2s 53ms/step - loss: 0.4452 - accuracy: 0.8745 - val_loss: 0.4013 - val_accuracy: 0.9041\n",
            "Epoch 24/100\n",
            "32/32 [==============================] - 2s 53ms/step - loss: 0.4700 - accuracy: 0.8528 - val_loss: 0.4072 - val_accuracy: 0.8950\n",
            "Epoch 25/100\n",
            "32/32 [==============================] - 2s 55ms/step - loss: 0.4961 - accuracy: 0.8589 - val_loss: 0.4052 - val_accuracy: 0.8995\n",
            "Epoch 26/100\n",
            "32/32 [==============================] - 2s 54ms/step - loss: 0.4263 - accuracy: 0.8893 - val_loss: 0.4678 - val_accuracy: 0.8767\n",
            "Epoch 27/100\n",
            "32/32 [==============================] - 2s 52ms/step - loss: 0.4796 - accuracy: 0.8470 - val_loss: 0.4068 - val_accuracy: 0.8950\n",
            "Epoch 28/100\n",
            "32/32 [==============================] - 2s 52ms/step - loss: 0.4947 - accuracy: 0.8467 - val_loss: 0.4167 - val_accuracy: 0.8950\n",
            "Epoch 29/100\n",
            "32/32 [==============================] - 2s 53ms/step - loss: 0.4364 - accuracy: 0.8876 - val_loss: 0.3975 - val_accuracy: 0.8995\n",
            "Epoch 30/100\n",
            "32/32 [==============================] - 2s 54ms/step - loss: 0.4495 - accuracy: 0.8916 - val_loss: 0.4122 - val_accuracy: 0.8995\n",
            "Epoch 31/100\n",
            "32/32 [==============================] - 2s 53ms/step - loss: 0.4320 - accuracy: 0.8984 - val_loss: 0.4108 - val_accuracy: 0.9087\n",
            "Epoch 32/100\n",
            "32/32 [==============================] - 2s 54ms/step - loss: 0.4742 - accuracy: 0.8670 - val_loss: 0.4067 - val_accuracy: 0.8950\n",
            "Epoch 33/100\n",
            "32/32 [==============================] - 2s 52ms/step - loss: 0.4494 - accuracy: 0.8660 - val_loss: 0.4224 - val_accuracy: 0.8904\n",
            "Epoch 34/100\n",
            "32/32 [==============================] - 2s 55ms/step - loss: 0.4682 - accuracy: 0.8787 - val_loss: 0.4134 - val_accuracy: 0.8858\n",
            "Epoch 35/100\n",
            "32/32 [==============================] - 2s 55ms/step - loss: 0.4337 - accuracy: 0.8869 - val_loss: 0.3980 - val_accuracy: 0.8995\n",
            "Epoch 36/100\n",
            "32/32 [==============================] - 2s 52ms/step - loss: 0.4584 - accuracy: 0.8873 - val_loss: 0.4023 - val_accuracy: 0.8950\n",
            "Epoch 37/100\n",
            "32/32 [==============================] - 2s 53ms/step - loss: 0.4632 - accuracy: 0.8797 - val_loss: 0.4040 - val_accuracy: 0.9132\n",
            "Epoch 38/100\n",
            "32/32 [==============================] - 2s 53ms/step - loss: 0.4595 - accuracy: 0.8747 - val_loss: 0.3928 - val_accuracy: 0.8995\n",
            "Epoch 39/100\n",
            "32/32 [==============================] - 2s 52ms/step - loss: 0.4234 - accuracy: 0.8894 - val_loss: 0.4144 - val_accuracy: 0.8858\n",
            "Epoch 40/100\n",
            "32/32 [==============================] - 2s 51ms/step - loss: 0.4433 - accuracy: 0.8900 - val_loss: 0.3969 - val_accuracy: 0.9087\n",
            "Epoch 41/100\n",
            "32/32 [==============================] - 2s 53ms/step - loss: 0.4505 - accuracy: 0.8753 - val_loss: 0.3998 - val_accuracy: 0.9041\n",
            "Epoch 42/100\n",
            "32/32 [==============================] - 2s 53ms/step - loss: 0.4910 - accuracy: 0.8629 - val_loss: 0.4042 - val_accuracy: 0.8950\n",
            "Epoch 43/100\n",
            "32/32 [==============================] - 2s 52ms/step - loss: 0.4447 - accuracy: 0.8835 - val_loss: 0.4109 - val_accuracy: 0.8995\n",
            "Epoch 44/100\n",
            "32/32 [==============================] - 2s 53ms/step - loss: 0.4837 - accuracy: 0.8575 - val_loss: 0.5024 - val_accuracy: 0.8447\n",
            "Epoch 45/100\n",
            "32/32 [==============================] - 2s 54ms/step - loss: 0.4570 - accuracy: 0.8696 - val_loss: 0.3975 - val_accuracy: 0.8995\n",
            "Epoch 46/100\n",
            "32/32 [==============================] - 2s 54ms/step - loss: 0.4441 - accuracy: 0.8937 - val_loss: 0.4055 - val_accuracy: 0.8950\n",
            "Epoch 47/100\n",
            "32/32 [==============================] - 2s 54ms/step - loss: 0.4316 - accuracy: 0.8855 - val_loss: 0.3958 - val_accuracy: 0.9087\n",
            "Epoch 48/100\n",
            "32/32 [==============================] - 2s 70ms/step - loss: 0.4235 - accuracy: 0.8857 - val_loss: 0.4356 - val_accuracy: 0.8858\n",
            "Epoch 49/100\n",
            "32/32 [==============================] - 2s 62ms/step - loss: 0.4361 - accuracy: 0.8703 - val_loss: 0.4032 - val_accuracy: 0.8995\n",
            "Epoch 50/100\n",
            "32/32 [==============================] - 2s 63ms/step - loss: 0.4533 - accuracy: 0.8790 - val_loss: 0.4165 - val_accuracy: 0.8904\n",
            "Epoch 51/100\n",
            "32/32 [==============================] - 3s 97ms/step - loss: 0.4538 - accuracy: 0.8681 - val_loss: 0.3981 - val_accuracy: 0.8995\n",
            "Epoch 52/100\n",
            "32/32 [==============================] - 3s 86ms/step - loss: 0.4425 - accuracy: 0.8740 - val_loss: 0.3982 - val_accuracy: 0.8950\n",
            "Epoch 53/100\n",
            "32/32 [==============================] - 2s 54ms/step - loss: 0.4519 - accuracy: 0.8832 - val_loss: 0.4131 - val_accuracy: 0.8995\n",
            "Epoch 54/100\n",
            "32/32 [==============================] - 2s 53ms/step - loss: 0.4547 - accuracy: 0.8791 - val_loss: 0.3921 - val_accuracy: 0.8995\n",
            "Epoch 55/100\n",
            "32/32 [==============================] - 2s 52ms/step - loss: 0.4468 - accuracy: 0.8767 - val_loss: 0.4115 - val_accuracy: 0.9041\n",
            "Epoch 56/100\n",
            "32/32 [==============================] - 2s 54ms/step - loss: 0.4418 - accuracy: 0.8726 - val_loss: 0.3950 - val_accuracy: 0.8995\n",
            "Epoch 57/100\n",
            "32/32 [==============================] - 2s 55ms/step - loss: 0.4294 - accuracy: 0.8839 - val_loss: 0.3966 - val_accuracy: 0.9041\n",
            "Epoch 58/100\n",
            "32/32 [==============================] - 2s 55ms/step - loss: 0.4666 - accuracy: 0.8815 - val_loss: 0.4225 - val_accuracy: 0.8813\n",
            "Epoch 59/100\n",
            "32/32 [==============================] - 2s 53ms/step - loss: 0.4807 - accuracy: 0.8643 - val_loss: 0.3956 - val_accuracy: 0.9132\n",
            "Epoch 60/100\n",
            "32/32 [==============================] - 2s 52ms/step - loss: 0.4183 - accuracy: 0.8864 - val_loss: 0.4445 - val_accuracy: 0.8813\n",
            "Epoch 61/100\n",
            "32/32 [==============================] - 2s 53ms/step - loss: 0.4430 - accuracy: 0.8749 - val_loss: 0.4476 - val_accuracy: 0.8676\n",
            "Epoch 62/100\n",
            "32/32 [==============================] - 2s 55ms/step - loss: 0.4593 - accuracy: 0.8641 - val_loss: 0.3975 - val_accuracy: 0.8995\n",
            "Epoch 63/100\n",
            "32/32 [==============================] - 2s 54ms/step - loss: 0.4471 - accuracy: 0.8725 - val_loss: 0.4334 - val_accuracy: 0.8904\n",
            "Epoch 64/100\n",
            "32/32 [==============================] - 2s 54ms/step - loss: 0.4391 - accuracy: 0.8778 - val_loss: 0.4495 - val_accuracy: 0.8721\n",
            "Epoch 65/100\n",
            "32/32 [==============================] - 2s 54ms/step - loss: 0.4664 - accuracy: 0.8579 - val_loss: 0.4054 - val_accuracy: 0.9041\n",
            "Epoch 66/100\n",
            "32/32 [==============================] - 2s 51ms/step - loss: 0.4544 - accuracy: 0.8725 - val_loss: 0.4062 - val_accuracy: 0.9132\n",
            "Epoch 67/100\n",
            "32/32 [==============================] - 2s 53ms/step - loss: 0.4532 - accuracy: 0.8593 - val_loss: 0.3933 - val_accuracy: 0.8995\n",
            "Epoch 68/100\n",
            "32/32 [==============================] - 2s 53ms/step - loss: 0.4071 - accuracy: 0.8884 - val_loss: 0.4214 - val_accuracy: 0.8904\n",
            "Epoch 69/100\n",
            "32/32 [==============================] - 2s 54ms/step - loss: 0.4684 - accuracy: 0.8619 - val_loss: 0.3951 - val_accuracy: 0.9041\n",
            "Epoch 70/100\n",
            "32/32 [==============================] - 2s 54ms/step - loss: 0.4567 - accuracy: 0.8742 - val_loss: 0.3970 - val_accuracy: 0.9041\n",
            "Epoch 71/100\n",
            "32/32 [==============================] - 2s 55ms/step - loss: 0.4523 - accuracy: 0.8736 - val_loss: 0.3960 - val_accuracy: 0.9132\n",
            "Epoch 72/100\n",
            "32/32 [==============================] - 2s 54ms/step - loss: 0.5013 - accuracy: 0.8599 - val_loss: 0.3984 - val_accuracy: 0.9087\n",
            "Epoch 73/100\n",
            "32/32 [==============================] - 2s 53ms/step - loss: 0.4178 - accuracy: 0.8985 - val_loss: 0.4212 - val_accuracy: 0.8813\n",
            "Epoch 74/100\n",
            "32/32 [==============================] - 2s 51ms/step - loss: 0.4507 - accuracy: 0.8710 - val_loss: 0.4071 - val_accuracy: 0.8950\n",
            "Epoch 75/100\n",
            "32/32 [==============================] - 2s 52ms/step - loss: 0.4290 - accuracy: 0.8919 - val_loss: 0.3972 - val_accuracy: 0.8995\n",
            "Epoch 76/100\n",
            "32/32 [==============================] - 2s 50ms/step - loss: 0.4521 - accuracy: 0.8915 - val_loss: 0.4024 - val_accuracy: 0.9041\n",
            "Epoch 77/100\n",
            "32/32 [==============================] - 2s 52ms/step - loss: 0.4287 - accuracy: 0.8902 - val_loss: 0.4676 - val_accuracy: 0.8676\n",
            "Epoch 78/100\n",
            "32/32 [==============================] - 2s 53ms/step - loss: 0.4658 - accuracy: 0.8665 - val_loss: 0.4213 - val_accuracy: 0.8995\n",
            "Epoch 79/100\n",
            "32/32 [==============================] - 2s 53ms/step - loss: 0.4310 - accuracy: 0.8880 - val_loss: 0.3992 - val_accuracy: 0.9041\n",
            "Epoch 80/100\n",
            "32/32 [==============================] - 2s 55ms/step - loss: 0.4716 - accuracy: 0.8613 - val_loss: 0.4079 - val_accuracy: 0.8995\n",
            "Epoch 81/100\n",
            "32/32 [==============================] - 2s 55ms/step - loss: 0.4477 - accuracy: 0.8652 - val_loss: 0.3937 - val_accuracy: 0.9087\n",
            "Epoch 82/100\n",
            "32/32 [==============================] - 2s 54ms/step - loss: 0.4630 - accuracy: 0.8650 - val_loss: 0.4067 - val_accuracy: 0.8950\n",
            "Epoch 83/100\n",
            "32/32 [==============================] - 2s 55ms/step - loss: 0.4567 - accuracy: 0.8662 - val_loss: 0.4194 - val_accuracy: 0.8904\n",
            "Epoch 84/100\n",
            "32/32 [==============================] - 2s 54ms/step - loss: 0.5096 - accuracy: 0.8494 - val_loss: 0.4056 - val_accuracy: 0.8995\n",
            "Epoch 85/100\n",
            "32/32 [==============================] - 2s 55ms/step - loss: 0.4699 - accuracy: 0.8439 - val_loss: 0.3984 - val_accuracy: 0.9041\n",
            "Epoch 86/100\n",
            "32/32 [==============================] - 2s 56ms/step - loss: 0.4373 - accuracy: 0.8818 - val_loss: 0.3973 - val_accuracy: 0.8950\n",
            "Epoch 87/100\n",
            "32/32 [==============================] - 2s 56ms/step - loss: 0.4348 - accuracy: 0.8759 - val_loss: 0.4278 - val_accuracy: 0.8995\n",
            "Epoch 88/100\n",
            "32/32 [==============================] - 2s 55ms/step - loss: 0.4582 - accuracy: 0.8804 - val_loss: 0.4054 - val_accuracy: 0.9041\n",
            "Epoch 89/100\n",
            "32/32 [==============================] - 2s 56ms/step - loss: 0.4439 - accuracy: 0.8795 - val_loss: 0.4421 - val_accuracy: 0.8721\n",
            "Epoch 90/100\n",
            "32/32 [==============================] - 2s 53ms/step - loss: 0.4587 - accuracy: 0.8693 - val_loss: 0.3918 - val_accuracy: 0.9041\n",
            "Epoch 91/100\n",
            "32/32 [==============================] - 2s 53ms/step - loss: 0.4345 - accuracy: 0.8873 - val_loss: 0.3936 - val_accuracy: 0.8995\n",
            "Epoch 92/100\n",
            "32/32 [==============================] - 2s 57ms/step - loss: 0.4229 - accuracy: 0.8844 - val_loss: 0.3941 - val_accuracy: 0.9041\n",
            "Epoch 93/100\n",
            "32/32 [==============================] - 2s 57ms/step - loss: 0.4416 - accuracy: 0.8694 - val_loss: 0.4448 - val_accuracy: 0.8721\n",
            "Epoch 94/100\n",
            "32/32 [==============================] - 2s 55ms/step - loss: 0.4804 - accuracy: 0.8621 - val_loss: 0.3946 - val_accuracy: 0.9087\n",
            "Epoch 95/100\n",
            "32/32 [==============================] - 2s 54ms/step - loss: 0.4592 - accuracy: 0.8742 - val_loss: 0.4174 - val_accuracy: 0.8950\n",
            "Epoch 96/100\n",
            "32/32 [==============================] - 2s 53ms/step - loss: 0.4628 - accuracy: 0.8639 - val_loss: 0.4371 - val_accuracy: 0.8858\n",
            "Epoch 97/100\n",
            "32/32 [==============================] - 2s 55ms/step - loss: 0.4675 - accuracy: 0.8617 - val_loss: 0.3975 - val_accuracy: 0.8950\n",
            "Epoch 98/100\n",
            "32/32 [==============================] - 2s 58ms/step - loss: 0.4483 - accuracy: 0.8761 - val_loss: 0.4363 - val_accuracy: 0.8858\n",
            "Epoch 99/100\n",
            "32/32 [==============================] - 2s 53ms/step - loss: 0.4674 - accuracy: 0.8571 - val_loss: 0.4113 - val_accuracy: 0.8950\n",
            "Epoch 100/100\n",
            "32/32 [==============================] - 2s 53ms/step - loss: 0.4459 - accuracy: 0.8838 - val_loss: 0.4686 - val_accuracy: 0.8493\n"
          ],
          "name": "stdout"
        }
      ]
    },
    {
      "cell_type": "code",
      "metadata": {
        "colab": {
          "base_uri": "https://localhost:8080/",
          "height": 295
        },
        "id": "eTSl_chVtDxx",
        "outputId": "269243ad-f7a7-4eb5-ec50-dbd87aacd99d"
      },
      "source": [
        "plt.plot(hist_3.history['loss'])\n",
        "plt.plot(hist_3.history['val_loss'])\n",
        "plt.title('Model loss')\n",
        "plt.ylabel('Loss')\n",
        "plt.xlabel('Epoch')\n",
        "plt.legend(['Train', 'Val'], loc='upper right')\n",
        "plt.ylim(top=1.2, bottom=0)\n",
        "plt.show()"
      ],
      "execution_count": 32,
      "outputs": [
        {
          "output_type": "display_data",
          "data": {
            "image/png": "[encoded data removed]",
            "text/plain": [
              "<Figure size 432x288 with 1 Axes>"
            ]
          },
          "metadata": {
            "tags": [],
            "needs_background": "light"
          }
        }
      ]
    },
    {
      "cell_type": "code",
      "metadata": {
        "colab": {
          "base_uri": "https://localhost:8080/",
          "height": 295
        },
        "id": "lO41LKvl5Ya6",
        "outputId": "8f46448b-28cd-49ca-eee8-6a757760a743"
      },
      "source": [
        "plt.plot(hist_3.history['accuracy'])\n",
        "plt.plot(hist_3.history['val_accuracy'])\n",
        "plt.title('Model accuracy')\n",
        "plt.ylabel('Accuracy')\n",
        "plt.xlabel('Epoch')\n",
        "plt.legend(['Train', 'Val'], loc='lower right')\n",
        "plt.show()"
      ],
      "execution_count": 34,
      "outputs": [
        {
          "output_type": "display_data",
          "data": {
            "image/png": "[encoded data removed]",
            "text/plain": [
              "<Figure size 432x288 with 1 Axes>"
            ]
          },
          "metadata": {
            "tags": [],
            "needs_background": "light"
          }
        }
      ]
    }
  ]
}
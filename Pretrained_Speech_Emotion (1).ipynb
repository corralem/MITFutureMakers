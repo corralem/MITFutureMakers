{
 "cells": [
  {
   "cell_type": "code",
   "execution_count": 1,
   "id": "372280a0",
   "metadata": {},
   "outputs": [
    {
     "name": "stdout",
     "output_type": "stream",
     "text": [
      "Python 3.8.8\n"
     ]
    }
   ],
   "source": [
    "# Check your Python version\n",
    "!python --version"
   ]
  },
  {
   "cell_type": "code",
   "execution_count": 2,
   "id": "8af8b0e0",
   "metadata": {},
   "outputs": [
    {
     "name": "stdout",
     "output_type": "stream",
     "text": [
      "Requirement already satisfied: tensorflow in c:\\users\\emcor\\anaconda3\\lib\\site-packages (2.5.0)\n",
      "Requirement already satisfied: wrapt~=1.12.1 in c:\\users\\emcor\\anaconda3\\lib\\site-packages (from tensorflow) (1.12.1)\n",
      "Requirement already satisfied: protobuf>=3.9.2 in c:\\users\\emcor\\anaconda3\\lib\\site-packages (from tensorflow) (3.17.3)\n",
      "Requirement already satisfied: h5py~=3.1.0 in c:\\users\\emcor\\anaconda3\\lib\\site-packages (from tensorflow) (3.1.0)\n",
      "Requirement already satisfied: keras-nightly~=2.5.0.dev in c:\\users\\emcor\\anaconda3\\lib\\site-packages (from tensorflow) (2.5.0.dev2021032900)\n",
      "Requirement already satisfied: six~=1.15.0 in c:\\users\\emcor\\anaconda3\\lib\\site-packages (from tensorflow) (1.15.0)\n",
      "Requirement already satisfied: opt-einsum~=3.3.0 in c:\\users\\emcor\\anaconda3\\lib\\site-packages (from tensorflow) (3.3.0)\n",
      "Requirement already satisfied: grpcio~=1.34.0 in c:\\users\\emcor\\anaconda3\\lib\\site-packages (from tensorflow) (1.34.1)\n",
      "Requirement already satisfied: tensorflow-estimator<2.6.0,>=2.5.0rc0 in c:\\users\\emcor\\anaconda3\\lib\\site-packages (from tensorflow) (2.5.0)\n",
      "Requirement already satisfied: wheel~=0.35 in c:\\users\\emcor\\anaconda3\\lib\\site-packages (from tensorflow) (0.36.2)\n",
      "Requirement already satisfied: absl-py~=0.10 in c:\\users\\emcor\\anaconda3\\lib\\site-packages (from tensorflow) (0.13.0)\n",
      "Requirement already satisfied: typing-extensions~=3.7.4 in c:\\users\\emcor\\anaconda3\\lib\\site-packages (from tensorflow) (3.7.4.3)\n",
      "Requirement already satisfied: gast==0.4.0 in c:\\users\\emcor\\anaconda3\\lib\\site-packages (from tensorflow) (0.4.0)\n",
      "Requirement already satisfied: google-pasta~=0.2 in c:\\users\\emcor\\anaconda3\\lib\\site-packages (from tensorflow) (0.2.0)\n",
      "Requirement already satisfied: keras-preprocessing~=1.1.2 in c:\\users\\emcor\\anaconda3\\lib\\site-packages (from tensorflow) (1.1.2)\n",
      "Requirement already satisfied: numpy~=1.19.2 in c:\\users\\emcor\\anaconda3\\lib\\site-packages (from tensorflow) (1.19.5)\n",
      "Requirement already satisfied: termcolor~=1.1.0 in c:\\users\\emcor\\anaconda3\\lib\\site-packages (from tensorflow) (1.1.0)\n",
      "Requirement already satisfied: astunparse~=1.6.3 in c:\\users\\emcor\\anaconda3\\lib\\site-packages (from tensorflow) (1.6.3)\n",
      "Requirement already satisfied: tensorboard~=2.5 in c:\\users\\emcor\\anaconda3\\lib\\site-packages (from tensorflow) (2.5.0)\n",
      "Requirement already satisfied: flatbuffers~=1.12.0 in c:\\users\\emcor\\anaconda3\\lib\\site-packages (from tensorflow) (1.12)\n",
      "Requirement already satisfied: setuptools>=41.0.0 in c:\\users\\emcor\\anaconda3\\lib\\site-packages (from tensorboard~=2.5->tensorflow) (52.0.0.post20210125)\n",
      "Requirement already satisfied: google-auth<2,>=1.6.3 in c:\\users\\emcor\\anaconda3\\lib\\site-packages (from tensorboard~=2.5->tensorflow) (1.34.0)\n",
      "Requirement already satisfied: requests<3,>=2.21.0 in c:\\users\\emcor\\anaconda3\\lib\\site-packages (from tensorboard~=2.5->tensorflow) (2.25.1)\n",
      "Requirement already satisfied: tensorboard-plugin-wit>=1.6.0 in c:\\users\\emcor\\anaconda3\\lib\\site-packages (from tensorboard~=2.5->tensorflow) (1.8.0)\n",
      "Requirement already satisfied: werkzeug>=0.11.15 in c:\\users\\emcor\\anaconda3\\lib\\site-packages (from tensorboard~=2.5->tensorflow) (1.0.1)\n",
      "Requirement already satisfied: markdown>=2.6.8 in c:\\users\\emcor\\anaconda3\\lib\\site-packages (from tensorboard~=2.5->tensorflow) (3.3.4)\n",
      "Requirement already satisfied: google-auth-oauthlib<0.5,>=0.4.1 in c:\\users\\emcor\\anaconda3\\lib\\site-packages (from tensorboard~=2.5->tensorflow) (0.4.5)\n",
      "Requirement already satisfied: tensorboard-data-server<0.7.0,>=0.6.0 in c:\\users\\emcor\\anaconda3\\lib\\site-packages (from tensorboard~=2.5->tensorflow) (0.6.1)\n",
      "Requirement already satisfied: rsa<5,>=3.1.4 in c:\\users\\emcor\\anaconda3\\lib\\site-packages (from google-auth<2,>=1.6.3->tensorboard~=2.5->tensorflow) (4.7.2)\n",
      "Requirement already satisfied: cachetools<5.0,>=2.0.0 in c:\\users\\emcor\\anaconda3\\lib\\site-packages (from google-auth<2,>=1.6.3->tensorboard~=2.5->tensorflow) (4.2.2)\n",
      "Requirement already satisfied: pyasn1-modules>=0.2.1 in c:\\users\\emcor\\anaconda3\\lib\\site-packages (from google-auth<2,>=1.6.3->tensorboard~=2.5->tensorflow) (0.2.8)\n",
      "Requirement already satisfied: requests-oauthlib>=0.7.0 in c:\\users\\emcor\\anaconda3\\lib\\site-packages (from google-auth-oauthlib<0.5,>=0.4.1->tensorboard~=2.5->tensorflow) (1.3.0)\n",
      "Requirement already satisfied: pyasn1<0.5.0,>=0.4.6 in c:\\users\\emcor\\anaconda3\\lib\\site-packages (from pyasn1-modules>=0.2.1->google-auth<2,>=1.6.3->tensorboard~=2.5->tensorflow) (0.4.8)\n",
      "Requirement already satisfied: urllib3<1.27,>=1.21.1 in c:\\users\\emcor\\anaconda3\\lib\\site-packages (from requests<3,>=2.21.0->tensorboard~=2.5->tensorflow) (1.26.4)\n",
      "Requirement already satisfied: chardet<5,>=3.0.2 in c:\\users\\emcor\\anaconda3\\lib\\site-packages (from requests<3,>=2.21.0->tensorboard~=2.5->tensorflow) (4.0.0)\n",
      "Requirement already satisfied: idna<3,>=2.5 in c:\\users\\emcor\\anaconda3\\lib\\site-packages (from requests<3,>=2.21.0->tensorboard~=2.5->tensorflow) (2.10)\n",
      "Requirement already satisfied: certifi>=2017.4.17 in c:\\users\\emcor\\anaconda3\\lib\\site-packages (from requests<3,>=2.21.0->tensorboard~=2.5->tensorflow) (2020.12.5)\n",
      "Requirement already satisfied: oauthlib>=3.0.0 in c:\\users\\emcor\\anaconda3\\lib\\site-packages (from requests-oauthlib>=0.7.0->google-auth-oauthlib<0.5,>=0.4.1->tensorboard~=2.5->tensorflow) (3.1.1)\n"
     ]
    }
   ],
   "source": [
    "!pip install tensorflow"
   ]
  },
  {
   "cell_type": "code",
   "execution_count": 3,
   "id": "f7b49759",
   "metadata": {},
   "outputs": [
    {
     "name": "stdout",
     "output_type": "stream",
     "text": [
      "Requirement already satisfied: scikit-learn in c:\\users\\emcor\\anaconda3\\lib\\site-packages (0.24.1)\n",
      "Requirement already satisfied: threadpoolctl>=2.0.0 in c:\\users\\emcor\\anaconda3\\lib\\site-packages (from scikit-learn) (2.1.0)\n",
      "Requirement already satisfied: numpy>=1.13.3 in c:\\users\\emcor\\anaconda3\\lib\\site-packages (from scikit-learn) (1.19.5)\n",
      "Requirement already satisfied: scipy>=0.19.1 in c:\\users\\emcor\\anaconda3\\lib\\site-packages (from scikit-learn) (1.6.2)\n",
      "Requirement already satisfied: joblib>=0.11 in c:\\users\\emcor\\anaconda3\\lib\\site-packages (from scikit-learn) (1.0.1)\n"
     ]
    }
   ],
   "source": [
    "!pip install scikit-learn"
   ]
  },
  {
   "cell_type": "code",
   "execution_count": 4,
   "id": "2420a22e",
   "metadata": {},
   "outputs": [
    {
     "name": "stdout",
     "output_type": "stream",
     "text": [
      "Requirement already satisfied: matplotlib in c:\\users\\emcor\\anaconda3\\lib\\site-packages (3.3.4)\n",
      "Requirement already satisfied: pillow>=6.2.0 in c:\\users\\emcor\\anaconda3\\lib\\site-packages (from matplotlib) (8.2.0)\n",
      "Requirement already satisfied: numpy>=1.15 in c:\\users\\emcor\\anaconda3\\lib\\site-packages (from matplotlib) (1.19.5)\n",
      "Requirement already satisfied: pyparsing!=2.0.4,!=2.1.2,!=2.1.6,>=2.0.3 in c:\\users\\emcor\\anaconda3\\lib\\site-packages (from matplotlib) (2.4.7)\n",
      "Requirement already satisfied: cycler>=0.10 in c:\\users\\emcor\\anaconda3\\lib\\site-packages (from matplotlib) (0.10.0)\n",
      "Requirement already satisfied: kiwisolver>=1.0.1 in c:\\users\\emcor\\anaconda3\\lib\\site-packages (from matplotlib) (1.3.1)\n",
      "Requirement already satisfied: python-dateutil>=2.1 in c:\\users\\emcor\\anaconda3\\lib\\site-packages (from matplotlib) (2.8.1)\n",
      "Requirement already satisfied: six in c:\\users\\emcor\\anaconda3\\lib\\site-packages (from cycler>=0.10->matplotlib) (1.15.0)\n"
     ]
    }
   ],
   "source": [
    "!pip install matplotlib"
   ]
  },
  {
   "cell_type": "code",
   "execution_count": 5,
   "id": "c37047d2",
   "metadata": {},
   "outputs": [
    {
     "name": "stdout",
     "output_type": "stream",
     "text": [
      "Requirement already satisfied: pandas in c:\\users\\emcor\\anaconda3\\lib\\site-packages (1.2.4)\n",
      "Requirement already satisfied: numpy>=1.16.5 in c:\\users\\emcor\\anaconda3\\lib\\site-packages (from pandas) (1.19.5)\n",
      "Requirement already satisfied: pytz>=2017.3 in c:\\users\\emcor\\anaconda3\\lib\\site-packages (from pandas) (2021.1)\n",
      "Requirement already satisfied: python-dateutil>=2.7.3 in c:\\users\\emcor\\anaconda3\\lib\\site-packages (from pandas) (2.8.1)\n",
      "Requirement already satisfied: six>=1.5 in c:\\users\\emcor\\anaconda3\\lib\\site-packages (from python-dateutil>=2.7.3->pandas) (1.15.0)\n"
     ]
    }
   ],
   "source": [
    "!pip install pandas"
   ]
  },
  {
   "cell_type": "code",
   "execution_count": 6,
   "id": "ebd6bbd8",
   "metadata": {},
   "outputs": [
    {
     "name": "stdout",
     "output_type": "stream",
     "text": [
      "Requirement already satisfied: pandas in c:\\users\\emcor\\anaconda3\\lib\\site-packages (1.2.4)\n",
      "Requirement already satisfied: pytz>=2017.3 in c:\\users\\emcor\\anaconda3\\lib\\site-packages (from pandas) (2021.1)\n",
      "Requirement already satisfied: python-dateutil>=2.7.3 in c:\\users\\emcor\\anaconda3\\lib\\site-packages (from pandas) (2.8.1)\n",
      "Requirement already satisfied: numpy>=1.16.5 in c:\\users\\emcor\\anaconda3\\lib\\site-packages (from pandas) (1.19.5)\n",
      "Requirement already satisfied: six>=1.5 in c:\\users\\emcor\\anaconda3\\lib\\site-packages (from python-dateutil>=2.7.3->pandas) (1.15.0)\n"
     ]
    }
   ],
   "source": [
    "!pip install pandas"
   ]
  },
  {
   "cell_type": "code",
   "execution_count": 7,
   "id": "d3d8ef53",
   "metadata": {},
   "outputs": [
    {
     "name": "stdout",
     "output_type": "stream",
     "text": [
      "Requirement already satisfied: Wave in c:\\users\\emcor\\anaconda3\\lib\\site-packages (0.0.2)\n"
     ]
    }
   ],
   "source": [
    "!pip install Wave"
   ]
  },
  {
   "cell_type": "code",
   "execution_count": 8,
   "id": "84be18cf",
   "metadata": {},
   "outputs": [
    {
     "name": "stdout",
     "output_type": "stream",
     "text": [
      "Requirement already satisfied: glob2 in c:\\users\\emcor\\anaconda3\\lib\\site-packages (0.7)\n"
     ]
    }
   ],
   "source": [
    "!pip install glob2"
   ]
  },
  {
   "cell_type": "code",
   "execution_count": 9,
   "id": "a0e8baa5",
   "metadata": {},
   "outputs": [
    {
     "name": "stdout",
     "output_type": "stream",
     "text": [
      "* recording\n",
      "* done recording\n"
     ]
    }
   ],
   "source": [
    "\"\"\"\n",
    "Code borrowed from: \n",
    "\"https://github.com/MITESHPUTHRANNEU/Speech-Emotion-Analyzer\"\n",
    "\"https://github.com/MITESHPUTHRANNEU/Speech-Emotion-Analyzer/blob/master/saved_models/Emotion_Voice_Detection_Model.h5\"\n",
    "\"https://github.com/MITESHPUTHRANNEU/Speech-Emotion-Analyzer/blob/master/AudioRecorder.ipynb\"\n",
    "\"\"\"\n",
    "\n",
    "# Record and save a 4s recording as a WAV file named \"output10\", in the same location as this notebook file\n",
    "\n",
    "import pyaudio\n",
    "import wave\n",
    "\n",
    "CHUNK = 1024 \n",
    "FORMAT = pyaudio.paInt16 #paInt8\n",
    "CHANNELS = 2 \n",
    "RATE = 44100 #sample rate\n",
    "RECORD_SECONDS = 4\n",
    "WAVE_OUTPUT_FILENAME = \"output10.wav\"\n",
    "\n",
    "p = pyaudio.PyAudio()\n",
    "\n",
    "stream = p.open(format=FORMAT,\n",
    "                channels=CHANNELS,\n",
    "                rate=RATE,\n",
    "                input=True,\n",
    "                frames_per_buffer=CHUNK) #buffer\n",
    "\n",
    "print(\"* recording\")\n",
    "\n",
    "frames = []\n",
    "\n",
    "for i in range(0, int(RATE / CHUNK * RECORD_SECONDS)):\n",
    "    data = stream.read(CHUNK)\n",
    "    frames.append(data) # 2 bytes(16 bits) per channel\n",
    "\n",
    "print(\"* done recording\")\n",
    "\n",
    "stream.stop_stream()\n",
    "stream.close()\n",
    "p.terminate()\n",
    "\n",
    "wf = wave.open(WAVE_OUTPUT_FILENAME, 'wb')\n",
    "wf.setnchannels(CHANNELS)\n",
    "wf.setsampwidth(p.get_sample_size(FORMAT))\n",
    "wf.setframerate(RATE)\n",
    "wf.writeframes(b''.join(frames))\n",
    "wf.close()"
   ]
  },
  {
   "cell_type": "code",
   "execution_count": 20,
   "id": "935e1cae",
   "metadata": {},
   "outputs": [
    {
     "name": "stdout",
     "output_type": "stream",
     "text": [
      "C:\\Users\\emcor\\Documents\\Day_22\n"
     ]
    }
   ],
   "source": [
    "!cd"
   ]
  },
  {
   "cell_type": "code",
   "execution_count": 1,
   "id": "c4bcb2ce",
   "metadata": {},
   "outputs": [
    {
     "data": {
      "text/plain": [
       "<matplotlib.collections.PolyCollection at 0x29378b0b100>"
      ]
     },
     "execution_count": 1,
     "metadata": {},
     "output_type": "execute_result"
    },
    {
     "data": {
      "image/png": "[encoded data removed]",
      "text/plain": [
       "<Figure size 1080x360 with 1 Axes>"
      ]
     },
     "metadata": {
      "needs_background": "light"
     },
     "output_type": "display_data"
    }
   ],
   "source": [
    "# Import our recording (\"output10.wav\") and plot the waveform\n",
    "\n",
    "import librosa\n",
    "from librosa.display import waveplot\n",
    "import matplotlib.pyplot as plt\n",
    "\n",
    "data, sampling_rate = librosa.load('audio1.wav')\n",
    "\n",
    "\n",
    "import os\n",
    "import pandas as pd\n",
    "import librosa\n",
    "import glob \n",
    "\n",
    "plt.figure(figsize=(15, 5))\n",
    "waveplot(data, sr=sampling_rate)"
   ]
  },
  {
   "cell_type": "code",
   "execution_count": 2,
   "id": "43d438d5",
   "metadata": {},
   "outputs": [],
   "source": [
    "# Extract audio features (MFCCs) into a Numpy array\n",
    "import numpy as np\n",
    "\n",
    "#livedf= pd.DataFrame(columns=['feature'])\n",
    "X, sample_rate = librosa.load('audio1.wav', res_type='kaiser_fast',duration=2.5,sr=22050*2,offset=0.5)\n",
    "sample_rate = np.array(sample_rate)\n",
    "mfccs = np.mean(librosa.feature.mfcc(y=X, sr=sample_rate, n_mfcc=13),axis=0)\n",
    "featurelive = mfccs\n",
    "livedf2 = featurelive"
   ]
  },
  {
   "cell_type": "code",
   "execution_count": 3,
   "id": "c904c4a5",
   "metadata": {},
   "outputs": [
    {
     "data": {
      "text/html": [
       "<div>\n",
       "<style scoped>\n",
       "    .dataframe tbody tr th:only-of-type {\n",
       "        vertical-align: middle;\n",
       "    }\n",
       "\n",
       "    .dataframe tbody tr th {\n",
       "        vertical-align: top;\n",
       "    }\n",
       "\n",
       "    .dataframe thead th {\n",
       "        text-align: right;\n",
       "    }\n",
       "</style>\n",
       "<table border=\"1\" class=\"dataframe\">\n",
       "  <thead>\n",
       "    <tr style=\"text-align: right;\">\n",
       "      <th></th>\n",
       "      <th>0</th>\n",
       "    </tr>\n",
       "  </thead>\n",
       "  <tbody>\n",
       "    <tr>\n",
       "      <th>0</th>\n",
       "      <td>-26.564806</td>\n",
       "    </tr>\n",
       "    <tr>\n",
       "      <th>1</th>\n",
       "      <td>-24.490227</td>\n",
       "    </tr>\n",
       "    <tr>\n",
       "      <th>2</th>\n",
       "      <td>-22.464672</td>\n",
       "    </tr>\n",
       "    <tr>\n",
       "      <th>3</th>\n",
       "      <td>-21.913631</td>\n",
       "    </tr>\n",
       "    <tr>\n",
       "      <th>4</th>\n",
       "      <td>-23.455523</td>\n",
       "    </tr>\n",
       "    <tr>\n",
       "      <th>...</th>\n",
       "      <td>...</td>\n",
       "    </tr>\n",
       "    <tr>\n",
       "      <th>211</th>\n",
       "      <td>-27.243805</td>\n",
       "    </tr>\n",
       "    <tr>\n",
       "      <th>212</th>\n",
       "      <td>-25.322527</td>\n",
       "    </tr>\n",
       "    <tr>\n",
       "      <th>213</th>\n",
       "      <td>-25.796793</td>\n",
       "    </tr>\n",
       "    <tr>\n",
       "      <th>214</th>\n",
       "      <td>-25.860352</td>\n",
       "    </tr>\n",
       "    <tr>\n",
       "      <th>215</th>\n",
       "      <td>-25.221073</td>\n",
       "    </tr>\n",
       "  </tbody>\n",
       "</table>\n",
       "<p>216 rows × 1 columns</p>\n",
       "</div>"
      ],
      "text/plain": [
       "             0\n",
       "0   -26.564806\n",
       "1   -24.490227\n",
       "2   -22.464672\n",
       "3   -21.913631\n",
       "4   -23.455523\n",
       "..         ...\n",
       "211 -27.243805\n",
       "212 -25.322527\n",
       "213 -25.796793\n",
       "214 -25.860352\n",
       "215 -25.221073\n",
       "\n",
       "[216 rows x 1 columns]"
      ]
     },
     "execution_count": 3,
     "metadata": {},
     "output_type": "execute_result"
    }
   ],
   "source": [
    "# Transfer data from Numpy array to Pandas dataframe\n",
    "livedf2= pd.DataFrame(data=livedf2)\n",
    "livedf2"
   ]
  },
  {
   "cell_type": "code",
   "execution_count": 4,
   "id": "5aa1522d",
   "metadata": {},
   "outputs": [],
   "source": [
    "# Transpose dataframe so that rows become columns and columns become rows\n",
    "livedf2 = livedf2.stack().to_frame().T"
   ]
  },
  {
   "cell_type": "code",
   "execution_count": 5,
   "id": "7e28b39c",
   "metadata": {},
   "outputs": [
    {
     "data": {
      "text/html": [
       "<div>\n",
       "<style scoped>\n",
       "    .dataframe tbody tr th:only-of-type {\n",
       "        vertical-align: middle;\n",
       "    }\n",
       "\n",
       "    .dataframe tbody tr th {\n",
       "        vertical-align: top;\n",
       "    }\n",
       "\n",
       "    .dataframe thead tr th {\n",
       "        text-align: left;\n",
       "    }\n",
       "</style>\n",
       "<table border=\"1\" class=\"dataframe\">\n",
       "  <thead>\n",
       "    <tr>\n",
       "      <th></th>\n",
       "      <th>0</th>\n",
       "      <th>1</th>\n",
       "      <th>2</th>\n",
       "      <th>3</th>\n",
       "      <th>4</th>\n",
       "      <th>5</th>\n",
       "      <th>6</th>\n",
       "      <th>7</th>\n",
       "      <th>8</th>\n",
       "      <th>9</th>\n",
       "      <th>...</th>\n",
       "      <th>206</th>\n",
       "      <th>207</th>\n",
       "      <th>208</th>\n",
       "      <th>209</th>\n",
       "      <th>210</th>\n",
       "      <th>211</th>\n",
       "      <th>212</th>\n",
       "      <th>213</th>\n",
       "      <th>214</th>\n",
       "      <th>215</th>\n",
       "    </tr>\n",
       "    <tr>\n",
       "      <th></th>\n",
       "      <th>0</th>\n",
       "      <th>0</th>\n",
       "      <th>0</th>\n",
       "      <th>0</th>\n",
       "      <th>0</th>\n",
       "      <th>0</th>\n",
       "      <th>0</th>\n",
       "      <th>0</th>\n",
       "      <th>0</th>\n",
       "      <th>0</th>\n",
       "      <th>...</th>\n",
       "      <th>0</th>\n",
       "      <th>0</th>\n",
       "      <th>0</th>\n",
       "      <th>0</th>\n",
       "      <th>0</th>\n",
       "      <th>0</th>\n",
       "      <th>0</th>\n",
       "      <th>0</th>\n",
       "      <th>0</th>\n",
       "      <th>0</th>\n",
       "    </tr>\n",
       "  </thead>\n",
       "  <tbody>\n",
       "    <tr>\n",
       "      <th>0</th>\n",
       "      <td>-26.564806</td>\n",
       "      <td>-24.490227</td>\n",
       "      <td>-22.464672</td>\n",
       "      <td>-21.913631</td>\n",
       "      <td>-23.455523</td>\n",
       "      <td>-23.652428</td>\n",
       "      <td>-22.937948</td>\n",
       "      <td>-24.30122</td>\n",
       "      <td>-25.492811</td>\n",
       "      <td>-27.386963</td>\n",
       "      <td>...</td>\n",
       "      <td>-25.247322</td>\n",
       "      <td>-25.862885</td>\n",
       "      <td>-26.198843</td>\n",
       "      <td>-26.393572</td>\n",
       "      <td>-25.321739</td>\n",
       "      <td>-27.243805</td>\n",
       "      <td>-25.322527</td>\n",
       "      <td>-25.796793</td>\n",
       "      <td>-25.860352</td>\n",
       "      <td>-25.221073</td>\n",
       "    </tr>\n",
       "  </tbody>\n",
       "</table>\n",
       "<p>1 rows × 216 columns</p>\n",
       "</div>"
      ],
      "text/plain": [
       "         0          1          2          3          4          5    \\\n",
       "           0          0          0          0          0          0   \n",
       "0 -26.564806 -24.490227 -22.464672 -21.913631 -23.455523 -23.652428   \n",
       "\n",
       "         6         7          8          9    ...        206        207  \\\n",
       "           0         0          0          0  ...          0          0   \n",
       "0 -22.937948 -24.30122 -25.492811 -27.386963  ... -25.247322 -25.862885   \n",
       "\n",
       "         208        209        210        211        212        213  \\\n",
       "           0          0          0          0          0          0   \n",
       "0 -26.198843 -26.393572 -25.321739 -27.243805 -25.322527 -25.796793   \n",
       "\n",
       "         214        215  \n",
       "           0          0  \n",
       "0 -25.860352 -25.221073  \n",
       "\n",
       "[1 rows x 216 columns]"
      ]
     },
     "execution_count": 5,
     "metadata": {},
     "output_type": "execute_result"
    }
   ],
   "source": [
    "livedf2"
   ]
  },
  {
   "cell_type": "code",
   "execution_count": 6,
   "id": "6a349d27",
   "metadata": {},
   "outputs": [
    {
     "data": {
      "text/plain": [
       "array([[[-26.564806],\n",
       "        [-24.490227],\n",
       "        [-22.464672],\n",
       "        [-21.913631],\n",
       "        [-23.455523],\n",
       "        [-23.652428],\n",
       "        [-22.937948],\n",
       "        [-24.30122 ],\n",
       "        [-25.492811],\n",
       "        [-27.386963],\n",
       "        [-24.730227],\n",
       "        [-24.21632 ],\n",
       "        [-26.134762],\n",
       "        [-27.0383  ],\n",
       "        [-26.57737 ],\n",
       "        [-26.653383],\n",
       "        [-28.546816],\n",
       "        [-27.38758 ],\n",
       "        [-27.461103],\n",
       "        [-25.77234 ],\n",
       "        [-26.116526],\n",
       "        [-27.249693],\n",
       "        [-26.855703],\n",
       "        [-26.723734],\n",
       "        [-25.883259],\n",
       "        [-26.588905],\n",
       "        [-27.452293],\n",
       "        [-26.05331 ],\n",
       "        [-25.984837],\n",
       "        [-25.220379],\n",
       "        [-25.140654],\n",
       "        [-22.837738],\n",
       "        [-21.084139],\n",
       "        [-20.481401],\n",
       "        [-20.253208],\n",
       "        [-21.878906],\n",
       "        [-21.592978],\n",
       "        [-19.960207],\n",
       "        [-19.01431 ],\n",
       "        [-19.23282 ],\n",
       "        [-19.4614  ],\n",
       "        [-17.52574 ],\n",
       "        [-19.061413],\n",
       "        [-21.373274],\n",
       "        [-21.96205 ],\n",
       "        [-22.623478],\n",
       "        [-23.111233],\n",
       "        [-23.03206 ],\n",
       "        [-21.328396],\n",
       "        [-20.79987 ],\n",
       "        [-19.618355],\n",
       "        [-17.373127],\n",
       "        [-19.0031  ],\n",
       "        [-22.367044],\n",
       "        [-22.208233],\n",
       "        [-20.627298],\n",
       "        [-23.450682],\n",
       "        [-20.167164],\n",
       "        [-17.08684 ],\n",
       "        [-18.077085],\n",
       "        [-19.976381],\n",
       "        [-20.002342],\n",
       "        [-22.496075],\n",
       "        [-21.405518],\n",
       "        [-21.096497],\n",
       "        [-22.340553],\n",
       "        [-21.41434 ],\n",
       "        [-20.210798],\n",
       "        [-22.489012],\n",
       "        [-23.490042],\n",
       "        [-22.501982],\n",
       "        [-23.95229 ],\n",
       "        [-22.827995],\n",
       "        [-19.787535],\n",
       "        [-21.211643],\n",
       "        [-20.297245],\n",
       "        [-17.2549  ],\n",
       "        [-21.98828 ],\n",
       "        [-27.553385],\n",
       "        [-25.996195],\n",
       "        [-23.2583  ],\n",
       "        [-23.40485 ],\n",
       "        [-24.142113],\n",
       "        [-24.259338],\n",
       "        [-26.610355],\n",
       "        [-26.551321],\n",
       "        [-27.114597],\n",
       "        [-26.860767],\n",
       "        [-26.450758],\n",
       "        [-26.165325],\n",
       "        [-25.19936 ],\n",
       "        [-25.951365],\n",
       "        [-27.405092],\n",
       "        [-27.246103],\n",
       "        [-27.559364],\n",
       "        [-25.508598],\n",
       "        [-26.227947],\n",
       "        [-25.712193],\n",
       "        [-20.935568],\n",
       "        [-18.209501],\n",
       "        [-19.07083 ],\n",
       "        [-19.186018],\n",
       "        [-18.06306 ],\n",
       "        [-18.228668],\n",
       "        [-18.363634],\n",
       "        [-19.17873 ],\n",
       "        [-19.376335],\n",
       "        [-18.835146],\n",
       "        [-18.557804],\n",
       "        [-20.839207],\n",
       "        [-22.329811],\n",
       "        [-20.698387],\n",
       "        [-18.54926 ],\n",
       "        [-17.313017],\n",
       "        [-19.04295 ],\n",
       "        [-20.579378],\n",
       "        [-18.469852],\n",
       "        [-18.948524],\n",
       "        [-19.820992],\n",
       "        [-19.487795],\n",
       "        [-21.244883],\n",
       "        [-20.460836],\n",
       "        [-21.475441],\n",
       "        [-22.502085],\n",
       "        [-21.943493],\n",
       "        [-22.506315],\n",
       "        [-21.11346 ],\n",
       "        [-20.13242 ],\n",
       "        [-20.760843],\n",
       "        [-19.76427 ],\n",
       "        [-19.87723 ],\n",
       "        [-20.315722],\n",
       "        [-20.207243],\n",
       "        [-21.161652],\n",
       "        [-22.773314],\n",
       "        [-21.917171],\n",
       "        [-21.859468],\n",
       "        [-23.049347],\n",
       "        [-21.818712],\n",
       "        [-22.148092],\n",
       "        [-23.318214],\n",
       "        [-21.881224],\n",
       "        [-23.192778],\n",
       "        [-24.648201],\n",
       "        [-23.752281],\n",
       "        [-21.30725 ],\n",
       "        [-22.214094],\n",
       "        [-22.309011],\n",
       "        [-20.928684],\n",
       "        [-19.033339],\n",
       "        [-18.070665],\n",
       "        [-20.494364],\n",
       "        [-20.690071],\n",
       "        [-21.306139],\n",
       "        [-20.837416],\n",
       "        [-20.615469],\n",
       "        [-22.251417],\n",
       "        [-24.254313],\n",
       "        [-24.272633],\n",
       "        [-25.521074],\n",
       "        [-27.301912],\n",
       "        [-28.112194],\n",
       "        [-26.390543],\n",
       "        [-25.450735],\n",
       "        [-24.799175],\n",
       "        [-23.455536],\n",
       "        [-21.455095],\n",
       "        [-21.15756 ],\n",
       "        [-20.359434],\n",
       "        [-20.309713],\n",
       "        [-19.73455 ],\n",
       "        [-18.353523],\n",
       "        [-18.4467  ],\n",
       "        [-18.036186],\n",
       "        [-18.774008],\n",
       "        [-19.662828],\n",
       "        [-19.482443],\n",
       "        [-20.439857],\n",
       "        [-23.083538],\n",
       "        [-23.588764],\n",
       "        [-22.634338],\n",
       "        [-20.590057],\n",
       "        [-18.960459],\n",
       "        [-19.316011],\n",
       "        [-19.58291 ],\n",
       "        [-20.911613],\n",
       "        [-22.235323],\n",
       "        [-21.484005],\n",
       "        [-19.844505],\n",
       "        [-19.367418],\n",
       "        [-21.45106 ],\n",
       "        [-20.152363],\n",
       "        [-19.487469],\n",
       "        [-19.71187 ],\n",
       "        [-19.027248],\n",
       "        [-20.620453],\n",
       "        [-22.90167 ],\n",
       "        [-21.08302 ],\n",
       "        [-21.856113],\n",
       "        [-22.579008],\n",
       "        [-22.30562 ],\n",
       "        [-24.265415],\n",
       "        [-25.254406],\n",
       "        [-25.587172],\n",
       "        [-25.771694],\n",
       "        [-25.820396],\n",
       "        [-25.247322],\n",
       "        [-25.862885],\n",
       "        [-26.198843],\n",
       "        [-26.393572],\n",
       "        [-25.32174 ],\n",
       "        [-27.243805],\n",
       "        [-25.322527],\n",
       "        [-25.796793],\n",
       "        [-25.860352],\n",
       "        [-25.221073]]], dtype=float32)"
      ]
     },
     "execution_count": 6,
     "metadata": {},
     "output_type": "execute_result"
    }
   ],
   "source": [
    "# Take data into Numpy array and add another dimension\n",
    "twodim= np.expand_dims(livedf2, axis=2)\n",
    "twodim"
   ]
  },
  {
   "cell_type": "code",
   "execution_count": 7,
   "id": "f8c25216",
   "metadata": {},
   "outputs": [
    {
     "ename": "AttributeError",
     "evalue": "'str' object has no attribute 'decode'",
     "output_type": "error",
     "traceback": [
      "\u001b[1;31m---------------------------------------------------------------------------\u001b[0m",
      "\u001b[1;31mAttributeError\u001b[0m                            Traceback (most recent call last)",
      "\u001b[1;32m<ipython-input-7-c5ac28cfa6b9>\u001b[0m in \u001b[0;36m<module>\u001b[1;34m\u001b[0m\n\u001b[0;32m      1\u001b[0m \u001b[1;31m# Load in the pretrained H5 model called \"Emotion_Voice_Detection_Model\", the one we downloaded from \"https://github.com/MITESHPUTHRANNEU/Speech-Emotion-Analyzer\"\u001b[0m\u001b[1;33m\u001b[0m\u001b[1;33m\u001b[0m\u001b[1;33m\u001b[0m\u001b[0m\n\u001b[0;32m      2\u001b[0m \u001b[1;32mimport\u001b[0m \u001b[0mtensorflow\u001b[0m \u001b[1;32mas\u001b[0m \u001b[0mtf\u001b[0m\u001b[1;33m\u001b[0m\u001b[1;33m\u001b[0m\u001b[0m\n\u001b[1;32m----> 3\u001b[1;33m \u001b[0mloaded_model\u001b[0m \u001b[1;33m=\u001b[0m \u001b[0mtf\u001b[0m\u001b[1;33m.\u001b[0m\u001b[0mkeras\u001b[0m\u001b[1;33m.\u001b[0m\u001b[0mmodels\u001b[0m\u001b[1;33m.\u001b[0m\u001b[0mload_model\u001b[0m\u001b[1;33m(\u001b[0m\u001b[1;34m'Emotion_Voice_Detection_Model.h5'\u001b[0m\u001b[1;33m)\u001b[0m\u001b[1;33m\u001b[0m\u001b[1;33m\u001b[0m\u001b[0m\n\u001b[0m",
      "\u001b[1;32m~\\anaconda3\\lib\\site-packages\\tensorflow\\python\\keras\\saving\\save.py\u001b[0m in \u001b[0;36mload_model\u001b[1;34m(filepath, custom_objects, compile, options)\u001b[0m\n\u001b[0;32m    180\u001b[0m     if (h5py is not None and (\n\u001b[0;32m    181\u001b[0m         isinstance(filepath, h5py.File) or h5py.is_hdf5(filepath))):\n\u001b[1;32m--> 182\u001b[1;33m       \u001b[1;32mreturn\u001b[0m \u001b[0mhdf5_format\u001b[0m\u001b[1;33m.\u001b[0m\u001b[0mload_model_from_hdf5\u001b[0m\u001b[1;33m(\u001b[0m\u001b[0mfilepath\u001b[0m\u001b[1;33m,\u001b[0m \u001b[0mcustom_objects\u001b[0m\u001b[1;33m,\u001b[0m \u001b[0mcompile\u001b[0m\u001b[1;33m)\u001b[0m\u001b[1;33m\u001b[0m\u001b[1;33m\u001b[0m\u001b[0m\n\u001b[0m\u001b[0;32m    183\u001b[0m \u001b[1;33m\u001b[0m\u001b[0m\n\u001b[0;32m    184\u001b[0m     \u001b[0mfilepath\u001b[0m \u001b[1;33m=\u001b[0m \u001b[0mpath_to_string\u001b[0m\u001b[1;33m(\u001b[0m\u001b[0mfilepath\u001b[0m\u001b[1;33m)\u001b[0m\u001b[1;33m\u001b[0m\u001b[1;33m\u001b[0m\u001b[0m\n",
      "\u001b[1;32m~\\anaconda3\\lib\\site-packages\\tensorflow\\python\\keras\\saving\\hdf5_format.py\u001b[0m in \u001b[0;36mload_model_from_hdf5\u001b[1;34m(filepath, custom_objects, compile)\u001b[0m\n\u001b[0;32m    174\u001b[0m     \u001b[1;32mif\u001b[0m \u001b[0mmodel_config\u001b[0m \u001b[1;32mis\u001b[0m \u001b[1;32mNone\u001b[0m\u001b[1;33m:\u001b[0m\u001b[1;33m\u001b[0m\u001b[1;33m\u001b[0m\u001b[0m\n\u001b[0;32m    175\u001b[0m       \u001b[1;32mraise\u001b[0m \u001b[0mValueError\u001b[0m\u001b[1;33m(\u001b[0m\u001b[1;34m'No model found in config file.'\u001b[0m\u001b[1;33m)\u001b[0m\u001b[1;33m\u001b[0m\u001b[1;33m\u001b[0m\u001b[0m\n\u001b[1;32m--> 176\u001b[1;33m     \u001b[0mmodel_config\u001b[0m \u001b[1;33m=\u001b[0m \u001b[0mjson\u001b[0m\u001b[1;33m.\u001b[0m\u001b[0mloads\u001b[0m\u001b[1;33m(\u001b[0m\u001b[0mmodel_config\u001b[0m\u001b[1;33m.\u001b[0m\u001b[0mdecode\u001b[0m\u001b[1;33m(\u001b[0m\u001b[1;34m'utf-8'\u001b[0m\u001b[1;33m)\u001b[0m\u001b[1;33m)\u001b[0m\u001b[1;33m\u001b[0m\u001b[1;33m\u001b[0m\u001b[0m\n\u001b[0m\u001b[0;32m    177\u001b[0m     model = model_config_lib.model_from_config(model_config,\n\u001b[0;32m    178\u001b[0m                                                custom_objects=custom_objects)\n",
      "\u001b[1;31mAttributeError\u001b[0m: 'str' object has no attribute 'decode'"
     ]
    }
   ],
   "source": [
    "# Load in the pretrained H5 model called \"Emotion_Voice_Detection_Model\", the one we downloaded from \"https://github.com/MITESHPUTHRANNEU/Speech-Emotion-Analyzer\"\n",
    "import tensorflow as tf\n",
    "loaded_model = tf.keras.models.load_model('Emotion_Voice_Detection_Model.h5')"
   ]
  },
  {
   "cell_type": "code",
   "execution_count": null,
   "id": "9a3301be",
   "metadata": {},
   "outputs": [],
   "source": [
    "# Let the H5 model make the prediction on our audio features (MFCCs)\n",
    "livepreds = loaded_model.predict(twodim, \n",
    "                         batch_size=32, \n",
    "                         verbose=1)"
   ]
  },
  {
   "cell_type": "code",
   "execution_count": null,
   "id": "682c414c",
   "metadata": {},
   "outputs": [],
   "source": [
    "# Print out the percentage values of the output layer (Softmax output)\n",
    "livepreds"
   ]
  },
  {
   "cell_type": "code",
   "execution_count": null,
   "id": "35c55666",
   "metadata": {},
   "outputs": [],
   "source": [
    "# Print out the label predicted by our H5 model\n",
    "livepreds1=livepreds.argmax(axis=1)\n",
    "print(livepreds1)"
   ]
  },
  {
   "cell_type": "code",
   "execution_count": null,
   "id": "94dc2486",
   "metadata": {},
   "outputs": [],
   "source": [
    "# Make sure the label is in integer format\n",
    "liveabc = livepreds1.astype(int).flatten()\n",
    "print(liveabc)"
   ]
  },
  {
   "cell_type": "code",
   "execution_count": null,
   "id": "dce0e6dc",
   "metadata": {},
   "outputs": [],
   "source": [
    "# Define the encoding of the ten string labels into their respective integer labels (0-9), according to the order of the original H5 project (\"https://github.com/MITESHPUTHRANNEU/Speech-Emotion-Analyzer\")\n",
    "from sklearn.preprocessing import LabelEncoder\n",
    "\n",
    "lb = LabelEncoder()\n",
    "str_labels = np.array([\"female_angry\", \"female_calm\", \"female_fearful\", \"female_happy\", \"female_sad\", \"male_angry\", \"male_calm\", \"male_fearful\", \"male_happy\", \"male_sad\"])\n",
    "int_labels = lb.fit_transform(str_labels)\n",
    "print(int_labels)"
   ]
  },
  {
   "cell_type": "code",
   "execution_count": null,
   "id": "b96d126d",
   "metadata": {},
   "outputs": [],
   "source": [
    "# Convert integer label to string label\n",
    "livepredictions = (lb.inverse_transform((liveabc)))\n",
    "print(livepredictions)"
   ]
  },
  {
   "cell_type": "code",
   "execution_count": null,
   "id": "4dbc3049",
   "metadata": {},
   "outputs": [],
   "source": []
  },
  {
   "cell_type": "code",
   "execution_count": null,
   "id": "05629227",
   "metadata": {},
   "outputs": [],
   "source": []
  }
 ],
 "metadata": {
  "kernelspec": {
   "display_name": "Python 3",
   "language": "python",
   "name": "python3"
  },
  "language_info": {
   "codemirror_mode": {
    "name": "ipython",
    "version": 3
   },
   "file_extension": ".py",
   "mimetype": "text/x-python",
   "name": "python",
   "nbconvert_exporter": "python",
   "pygments_lexer": "ipython3",
   "version": "3.8.8"
  }
 },
 "nbformat": 4,
 "nbformat_minor": 5
}
